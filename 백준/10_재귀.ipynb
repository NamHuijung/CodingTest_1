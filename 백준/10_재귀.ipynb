{
  "nbformat": 4,
  "nbformat_minor": 0,
  "metadata": {
    "colab": {
      "name": "10_재귀.ipynb",
      "provenance": []
    },
    "kernelspec": {
      "name": "python3",
      "display_name": "Python 3"
    },
    "language_info": {
      "name": "python"
    }
  },
  "cells": [
    {
      "cell_type": "code",
      "execution_count": 1,
      "metadata": {
        "colab": {
          "base_uri": "https://localhost:8080/"
        },
        "id": "W95af6whdq-U",
        "outputId": "930f0f33-9bbf-4e04-fd41-f778514010df"
      },
      "outputs": [
        {
          "output_type": "stream",
          "name": "stdout",
          "text": [
            "10\n",
            "3628800\n"
          ]
        }
      ],
      "source": [
        "# 1. 팩토리얼\n",
        "\n",
        "def factorial(N) :\n",
        "  if (N == 0) or (N == 1) :\n",
        "    return 1\n",
        "  return N * factorial(N-1)\n",
        "\n",
        "N = int(input())\n",
        "print(factorial(N))"
      ]
    },
    {
      "cell_type": "code",
      "source": [
        "# 2. 피보나치 수\n",
        "\n",
        "def pibo(N) :\n",
        "  if (N == 0) :\n",
        "    return 0\n",
        "  elif (N == 1) :\n",
        "    return 1\n",
        "  return pibo(N-1) + pibo(N-2)\n",
        "\n",
        "N = int(input())\n",
        "print(pibo(N))"
      ],
      "metadata": {
        "colab": {
          "base_uri": "https://localhost:8080/"
        },
        "id": "hnS1ntDRefBh",
        "outputId": "955400b7-2ca5-43c2-b01f-f7fc9b5198d2"
      },
      "execution_count": 2,
      "outputs": [
        {
          "output_type": "stream",
          "name": "stdout",
          "text": [
            "10\n",
            "55\n"
          ]
        }
      ]
    },
    {
      "cell_type": "code",
      "source": [
        "# ★★★★★\n",
        "# 3. 별 찍기-10\n"
      ],
      "metadata": {
        "id": "rUX-qItweey7"
      },
      "execution_count": 3,
      "outputs": []
    },
    {
      "cell_type": "code",
      "source": [
        "# 4. 하노이 탑 이동 순서\n",
        "\n",
        "def hanoi(N, A, B, C):\n",
        "    if N == 1:\n",
        "        print(A, C)\n",
        "    else:\n",
        "        hanoi(N-1, A, C, B)\n",
        "        print(A, C)\n",
        "        hanoi(N-1, B, A, C)\n",
        "\n",
        "N = int(input())\n",
        "print(2**N - 1)\n",
        "hanoi(N, 1, 2, 3)"
      ],
      "metadata": {
        "colab": {
          "base_uri": "https://localhost:8080/"
        },
        "id": "GKOk91kseeiS",
        "outputId": "631c5255-44f7-4e5e-c268-55f23489a1f1"
      },
      "execution_count": 4,
      "outputs": [
        {
          "output_type": "stream",
          "name": "stdout",
          "text": [
            "3\n",
            "7\n",
            "1 3\n",
            "1 2\n",
            "3 2\n",
            "1 3\n",
            "2 1\n",
            "2 3\n",
            "1 3\n"
          ]
        }
      ]
    },
    {
      "cell_type": "code",
      "source": [
        ""
      ],
      "metadata": {
        "id": "5xlduTfei-Ea"
      },
      "execution_count": 4,
      "outputs": []
    }
  ]
}