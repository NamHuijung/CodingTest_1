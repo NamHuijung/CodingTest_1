{
 "cells": [
  {
   "cell_type": "code",
   "execution_count": 1,
   "id": "2a1e2c82",
   "metadata": {},
   "outputs": [
    {
     "name": "stdout",
     "output_type": "stream",
     "text": [
      "1000 70 170\n",
      "11\n"
     ]
    }
   ],
   "source": [
    "# 1. 손익분기점\n",
    "# 이익이 발생하는 지점을 찾는 문제\n",
    "\n",
    "A, B, C = map(int, input().split())\n",
    "if B >= C :\n",
    "    print(-1)\n",
    "else :\n",
    "    print((A // (C-B)) + 1)"
   ]
  },
  {
   "cell_type": "code",
   "execution_count": 2,
   "id": "fbd81331",
   "metadata": {},
   "outputs": [
    {
     "name": "stdout",
     "output_type": "stream",
     "text": [
      "13\n",
      "3 -5\n"
     ]
    }
   ],
   "source": [
    "# 2. 벌집\n",
    "# 벌집이 형성되는 규칙에 따라 벌집의 위치를 구하는 문제\n",
    "\n",
    "N = int(input())\n",
    "k = 1\n",
    "while N > 1 :\n",
    "    N -= 6 * k\n",
    "    k += 1\n",
    "print(k, N)"
   ]
  },
  {
   "cell_type": "code",
   "execution_count": 3,
   "id": "eb0584c0",
   "metadata": {},
   "outputs": [
    {
     "name": "stdout",
     "output_type": "stream",
     "text": [
      "2\n",
      "1/2\n"
     ]
    }
   ],
   "source": [
    "# 3. 분수 찾기\n",
    "# 분수의 순서에서 규칙을 찾는 문제\n",
    "\n",
    "X = int(input())\n",
    "\n",
    "i = 1\n",
    "while X > i :\n",
    "    X -= i\n",
    "    i += 1\n",
    "    \n",
    "if (i % 2 != 0) :\n",
    "    print('{}/{}'.format(i-X+1, X))\n",
    "else :\n",
    "    print('{}/{}'.format(X, i-X+1))"
   ]
  },
  {
   "cell_type": "code",
   "execution_count": 4,
   "id": "1d218640",
   "metadata": {},
   "outputs": [
    {
     "name": "stdout",
     "output_type": "stream",
     "text": [
      "2 1 5\n",
      "4\n"
     ]
    }
   ],
   "source": [
    "# 4. 달팽이는 올라가고 싶다.\n",
    "# 달팽이의 움직임을 계산하는 문제\n",
    "\n",
    "import math\n",
    "A, B, V = map(int, input().split())\n",
    "\n",
    "day = (V-B) / (A-B)\n",
    "print(math.ceil(day))"
   ]
  },
  {
   "cell_type": "code",
   "execution_count": 5,
   "id": "87d2eb5d",
   "metadata": {},
   "outputs": [
    {
     "name": "stdout",
     "output_type": "stream",
     "text": [
      "2\n",
      "6 12 10\n",
      "402\n",
      "30 50 72\n",
      "1203\n"
     ]
    }
   ],
   "source": [
    "# 5. ACM 호텔\n",
    "# 호텔 방 번호의 규칙을 찾아 출력하는 문제\n",
    "\n",
    "T = int(input())\n",
    "for _ in range(T) :\n",
    "    H, W, N = map(int, input().split())\n",
    "    floor = N % H\n",
    "    no = N // H + 1\n",
    "    if (floor == 0) :\n",
    "        floor = H\n",
    "        no -= 1\n",
    "    print(floor * 100 + no)"
   ]
  },
  {
   "cell_type": "code",
   "execution_count": 8,
   "id": "697ac175",
   "metadata": {},
   "outputs": [
    {
     "name": "stdout",
     "output_type": "stream",
     "text": [
      "2\n",
      "1\n",
      "3\n",
      "6\n",
      "2\n",
      "3\n",
      "10\n"
     ]
    }
   ],
   "source": [
    "# 6. 부녀회장이 될테야\n",
    "# 층과 거주자 수의 규칙을 찾는 문제\n",
    "\n",
    "T = int(input())\n",
    "for _ in range(T) :\n",
    "    floor = int(input())\n",
    "    no = int(input())\n",
    "    people = [x for x in range(1, no+1)]\n",
    "    \n",
    "    for i in range(floor) :\n",
    "        for j in range(1, no) :\n",
    "            people[j] = people[j-1] + people[j]\n",
    "            \n",
    "    print(people[-1])"
   ]
  },
  {
   "cell_type": "code",
   "execution_count": 9,
   "id": "7721a585",
   "metadata": {},
   "outputs": [
    {
     "name": "stdout",
     "output_type": "stream",
     "text": [
      "18\n",
      "4\n"
     ]
    }
   ],
   "source": [
    "# 7. 설탕 배달\n",
    "# 5와 3을 최소 횟수로 합하여 N을 만드는 문제\n",
    "\n",
    "N = int(input())\n",
    "\n",
    "sugar_3 = 0\n",
    "while True :\n",
    "    if (N % 5 == 0) :\n",
    "        print((N // 5) + sugar_3)\n",
    "        break\n",
    "    N -= 3\n",
    "    sugar_3 += 1\n",
    "    if (N == 0) :\n",
    "        print(sugar_3)\n",
    "        break\n",
    "    elif (N < 0) :\n",
    "        print(-1)\n",
    "        break"
   ]
  },
  {
   "cell_type": "code",
   "execution_count": 10,
   "id": "bee832b4",
   "metadata": {},
   "outputs": [
    {
     "name": "stdout",
     "output_type": "stream",
     "text": [
      "9223372036854775807 9223372036854775808\n",
      "18446744073709551615\n"
     ]
    }
   ],
   "source": [
    "# 8. 큰 수 A+B\n",
    "# 파이썬 같은 언어는 10,000자리 정도의 자연수도 자유롭게 다룰 수 있다.\n",
    "# 하지만 C/C++이라면 이 문제를 어떻게 풀까요?\n",
    "\n",
    "A, B = map(int, input().split())\n",
    "print(A + B)"
   ]
  },
  {
   "cell_type": "code",
   "execution_count": 11,
   "id": "07d037ca",
   "metadata": {},
   "outputs": [
    {
     "name": "stdout",
     "output_type": "stream",
     "text": [
      "3\n",
      "0 3\n",
      "3\n",
      "1 5\n",
      "3\n",
      "45 50\n",
      "4\n"
     ]
    }
   ],
   "source": [
    "# ★★★★★\n",
    "# 9. Fly me to the Alpha Centauri\n",
    "# 거리에 따른 장치 사용 횟수를 출력하는 문제\n",
    "\n",
    "t = int(input())\n",
    "\n",
    "for _ in range(t):\n",
    "    x, y = map(int,input().split())\n",
    "    distance = y - x\n",
    "    count = 0  # 이동 횟수\n",
    "    move = 1  # count별 이동 가능한 거리\n",
    "    move_plus = 0  # 이동한 거리의 합\n",
    "    while move_plus < distance :\n",
    "        count += 1\n",
    "        move_plus += move  # count 수에 해당하는 move를 더함\n",
    "        if count % 2 == 0 :  # count가 2의 배수일 때, \n",
    "            move += 1  \n",
    "    print(count)"
   ]
  },
  {
   "cell_type": "code",
   "execution_count": null,
   "id": "567bcd20",
   "metadata": {},
   "outputs": [],
   "source": []
  }
 ],
 "metadata": {
  "kernelspec": {
   "display_name": "Python 3",
   "language": "python",
   "name": "python3"
  },
  "language_info": {
   "codemirror_mode": {
    "name": "ipython",
    "version": 3
   },
   "file_extension": ".py",
   "mimetype": "text/x-python",
   "name": "python",
   "nbconvert_exporter": "python",
   "pygments_lexer": "ipython3",
   "version": "3.8.8"
  }
 },
 "nbformat": 4,
 "nbformat_minor": 5
}
