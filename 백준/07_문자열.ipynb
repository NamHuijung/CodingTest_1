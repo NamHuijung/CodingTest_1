{
  "nbformat": 4,
  "nbformat_minor": 0,
  "metadata": {
    "colab": {
      "name": "07_문자열.ipynb",
      "provenance": [],
      "collapsed_sections": []
    },
    "kernelspec": {
      "name": "python3",
      "display_name": "Python 3"
    },
    "language_info": {
      "name": "python"
    }
  },
  "cells": [
    {
      "cell_type": "code",
      "metadata": {
        "colab": {
          "base_uri": "https://localhost:8080/"
        },
        "id": "d9G01KkzOMnX",
        "outputId": "0c2d5a6c-9d78-41e3-d70c-0027d603f389"
      },
      "source": [
        "# 1. 아스키 코드\n",
        "# 알파벳 소문자, 대문자, 숫자 0-9중 하나가 주어졌을 때, \n",
        "# 주어진 글자의 아스키 코드값을 출력하는 프로그램을 작성\n",
        "\n",
        "# ord() : 문자의 아스키코드 값을 리턴하는 함수\n",
        "# chr() : 아스키코드 값을 문자로 리턴하는 함수\n",
        "x = input()\n",
        "print(ord(x))"
      ],
      "execution_count": 1,
      "outputs": [
        {
          "output_type": "stream",
          "name": "stdout",
          "text": [
            "z\n",
            "122\n"
          ]
        }
      ]
    },
    {
      "cell_type": "code",
      "metadata": {
        "colab": {
          "base_uri": "https://localhost:8080/"
        },
        "id": "W9aYMHb9PGiP",
        "outputId": "d93ede3f-d3e9-4335-82c8-f1ef90125208"
      },
      "source": [
        "# 2. 숫자의 합\n",
        "# N개의 숫자가 공백 없이 쓰여있다. \n",
        "# 이 숫자를 모두 합해서 출력하는 프로그램을 작성\n",
        "# 첫째 줄에 숫자의 개수 N (1 ≤ N ≤ 100)이 주어진다. \n",
        "# 둘째 줄에 숫자 N개가 공백없이 주어진다.\n",
        "\n",
        "n = int(input())\n",
        "nums = list(map(int, input()))\n",
        "print(sum(nums))"
      ],
      "execution_count": 2,
      "outputs": [
        {
          "output_type": "stream",
          "name": "stdout",
          "text": [
            "5\n",
            "54321\n",
            "15\n"
          ]
        }
      ]
    },
    {
      "cell_type": "code",
      "metadata": {
        "colab": {
          "base_uri": "https://localhost:8080/"
        },
        "id": "ZW6bZs4fQy0a",
        "outputId": "75859d63-4737-4898-8a51-2063997715cf"
      },
      "source": [
        "# 3. 알파벳 찾기\n",
        "# 알파벳 소문자로만 이루어진 단어 S가 주어진다.\n",
        "# 각각의 알파벳에 대해서, 단어에 포함되어 있는 경우에는 처음 등장하는 위치를, 포함되어 있지 않은 경우에는 -1을 출력하는 프로그램을 작성\n",
        "# a : 97, z = 122\n",
        "\n",
        "S = input()\n",
        "abc = list(range(97, 123))\n",
        "\n",
        "for i in abc :\n",
        "  print(S.find(chr(i)), end=' ')"
      ],
      "execution_count": 3,
      "outputs": [
        {
          "output_type": "stream",
          "name": "stdout",
          "text": [
            "baekjoon\n",
            "1 0 -1 -1 2 -1 -1 -1 -1 4 3 -1 -1 7 5 -1 -1 -1 -1 -1 -1 -1 -1 -1 -1 -1 "
          ]
        }
      ]
    },
    {
      "cell_type": "code",
      "metadata": {
        "colab": {
          "base_uri": "https://localhost:8080/"
        },
        "id": "H4xg86L0UDwy",
        "outputId": "fa79fd43-e649-4c58-e61e-a3669577c9ac"
      },
      "source": [
        "# 4. 문자열 반복\n",
        "# 문자열 S를 입력받은 후에, 각 문자를 R번 반복해 새 문자열 P를 만든 후 출력하는 프로그램을 작성\n",
        "# 첫째 줄에 테스트 케이스의 개수 T(1 ≤ T ≤ 1,000)가 주어진다.\n",
        "# 각 테스트 케이스는 반복 횟수 R(1 ≤ R ≤ 8), 문자열 S가 공백으로 구분되어 주어진다.\n",
        "\n",
        "n = int(input())\n",
        "for _ in range(n) :\n",
        "  k, S = input().split()\n",
        "  for i in S :\n",
        "   print(i * int(k), end='')\n",
        "  print()"
      ],
      "execution_count": 4,
      "outputs": [
        {
          "output_type": "stream",
          "name": "stdout",
          "text": [
            "2\n",
            "3 ABC\n",
            "AAABBBCCC\n",
            "5 /HTP\n",
            "/////HHHHHTTTTTPPPPP\n"
          ]
        }
      ]
    },
    {
      "cell_type": "code",
      "metadata": {
        "colab": {
          "base_uri": "https://localhost:8080/"
        },
        "id": "BqMn04cgZAco",
        "outputId": "37b32e7d-6d05-451b-e998-453e973c77e0"
      },
      "source": [
        "# 5. 단어 공부\n",
        "# 알파벳 대소문자로 된 단어가 주어지면, 이 단어에서 가장 많이 사용된 알파벳이 무엇인지 알아내는 프로그램을 작성\n",
        "# 첫째 줄에 이 단어에서 가장 많이 사용된 알파벳을 대문자로 출력한다. \n",
        "# 단, 가장 많이 사용된 알파벳이 여러 개 존재하는 경우에는 ?를 출력\n",
        "\n",
        "S = input().upper()\n",
        "S_set = list(set(S))\n",
        "cnt_list = list()\n",
        "for i in S_set :\n",
        "  cnt_list.append(S.count(i))\n",
        "\n",
        "if cnt_list.count(max(cnt_list)) > 1 :\n",
        "  print('?')\n",
        "else :\n",
        "  max_idx = cnt_list.index(max(cnt_list))\n",
        "  print(S_set[max_idx])"
      ],
      "execution_count": 5,
      "outputs": [
        {
          "output_type": "stream",
          "name": "stdout",
          "text": [
            "Mississipi\n",
            "?\n"
          ]
        }
      ]
    },
    {
      "cell_type": "code",
      "metadata": {
        "colab": {
          "base_uri": "https://localhost:8080/"
        },
        "id": "N6kc6mIJdY8b",
        "outputId": "4585ff23-a6cd-401e-acaa-464cef2a0403"
      },
      "source": [
        "# 6. 단어의 개수\n",
        "# 영어 대소문자와 공백으로 이루어진 문자열이 주어진다.\n",
        "# 문자열에 있는 단어의 개수를 구하는 프로그램 작성\n",
        "# 첫 줄에 영어 대소문자와 공백으로 이루어진 문자열이 주어진다.\n",
        "\n",
        "S = list(input().split())\n",
        "print(len(S))"
      ],
      "execution_count": 6,
      "outputs": [
        {
          "output_type": "stream",
          "name": "stdout",
          "text": [
            "The first character is a blank\n",
            "6\n"
          ]
        }
      ]
    },
    {
      "cell_type": "code",
      "metadata": {
        "id": "KTke2liMeo2s",
        "colab": {
          "base_uri": "https://localhost:8080/"
        },
        "outputId": "646fe1e9-071e-4728-fa39-b5f872ba28af"
      },
      "source": [
        "# 7. 상수\n",
        "# 상수는 수를 다른 사람과 다르게 거꾸로 읽는다. \n",
        "# 예를 들어, 734와 893을 칠판에 적었다면, 상수는 이 수를 437과 398로 읽는다. \n",
        "# 따라서, 상수는 두 수중 큰 수인 437을 큰 수라고 말할 것이다.\n",
        "# 두 수가 주어졌을 때, 상수의 대답을 출력하는 프로그램을 작성\n",
        "\n",
        "A, B = input().split()\n",
        "A = int(A[2] + A[1] + A[0])\n",
        "B = int(B[2] + B[1] + B[0])\n",
        "print(A if A > B else B)"
      ],
      "execution_count": 7,
      "outputs": [
        {
          "output_type": "stream",
          "name": "stdout",
          "text": [
            "221 231\n",
            "132\n"
          ]
        }
      ]
    },
    {
      "cell_type": "markdown",
      "metadata": {
        "id": "k3IprAIoJ7NN"
      },
      "source": [
        "![이미지](https://t1.daumcdn.net/cfile/tistory/9994CB335CA2120D1A)"
      ]
    },
    {
      "cell_type": "code",
      "metadata": {
        "colab": {
          "base_uri": "https://localhost:8080/"
        },
        "id": "okaXfLwsG5ZT",
        "outputId": "11ee03c5-8e6c-4087-b60a-e3cb261efc04"
      },
      "source": [
        "# 8. 다이얼\n",
        "\n",
        "num_alpha = ['ABC', 'DEF', 'GHI', 'JKL', 'MNO', 'PQRS', 'TUV', 'WXYZ']\n",
        "s = input()\n",
        "dial = 0\n",
        "for i in range(len(s)) :\n",
        "  for k in num_alpha :\n",
        "    if s[i] in k :\n",
        "      dial += num_alpha.index(k) + 3\n",
        "\n",
        "print(dial)"
      ],
      "execution_count": 8,
      "outputs": [
        {
          "output_type": "stream",
          "name": "stdout",
          "text": [
            "UNUCIC\n",
            "36\n"
          ]
        }
      ]
    },
    {
      "cell_type": "code",
      "metadata": {
        "colab": {
          "base_uri": "https://localhost:8080/"
        },
        "id": "8cZlqsuKNPdQ",
        "outputId": "f87a9a40-afaa-4987-96ca-a9203752d578"
      },
      "source": [
        "# 9. 크로아티아 알파벳\n",
        "# 첫째 줄에 최대 100글자의 단어가 주어진다. 알파벳 소문자와 '-', '='로만 이루어져 있다.\n",
        "# 단어는 크로아티아 알파벳으로 이루어져 있다.\n",
        "# 입력으로 주어진 단어가 몇 개의 크로아티아 알파벳으로 이루어져 있는지 출력\n",
        "\n",
        "croatia_alpha = ['c=', 'c-', 'dz=','d-', 'lj', 'nj', 's=', 'z=']\n",
        "\n",
        "s = input()\n",
        "\n",
        "for i in croatia_alpha :\n",
        "  s = s.replace(i, '+')\n",
        "\n",
        "print(len(s))"
      ],
      "execution_count": 9,
      "outputs": [
        {
          "output_type": "stream",
          "name": "stdout",
          "text": [
            "ljes=njak\n",
            "6\n"
          ]
        }
      ]
    },
    {
      "cell_type": "code",
      "metadata": {
        "id": "5JApPOTEQo4G",
        "colab": {
          "base_uri": "https://localhost:8080/"
        },
        "outputId": "8ab75c66-4cdf-4bf8-d836-2605e793aea3"
      },
      "source": [
        "# 10. 그룹 단어 체커\n",
        "# 그룹 단어란 단어에 존재하는 모든 문자에 대해서, 각 문자가 연속해서 나타나는 경우만을 말한다. \n",
        "# 예를 들면, ccazzzzbb는 c, a, z, b가 모두 연속해서 나타나고, \n",
        "# kin도 k, i, n이 연속해서 나타나기 때문에 그룹 단어이지만, \n",
        "# aabbbccb는 b가 떨어져서 나타나기 때문에 그룹 단어가 아니다.\n",
        "# 단어 N개를 입력으로 받아 그룹 단어의 개수를 출력하는 프로그램을 작성\n",
        "# 첫째 줄에 단어의 개수 N이 들어온다. 둘째 줄부터 N개의 줄에 단어가 들어온다.\n",
        "# 첫째 줄에 그룹 단어의 개수를 출력한다.\n",
        "\n",
        "N = int(input())\n",
        "\n",
        "cnt = N\n",
        "for _ in range(N) :\n",
        "  S = input()\n",
        "  for i in range(len(S) - 1) :\n",
        "    if (S[i] != S[i+1]) :\n",
        "      if (S[i+1] in S[:i+1]) :\n",
        "        cnt -= 1\n",
        "        break\n",
        "\n",
        "print(cnt)"
      ],
      "execution_count": 10,
      "outputs": [
        {
          "output_type": "stream",
          "name": "stdout",
          "text": [
            "3\n",
            "happy\n",
            "new\n",
            "year\n",
            "3\n"
          ]
        }
      ]
    },
    {
      "cell_type": "code",
      "metadata": {
        "id": "DPOeUeRjhHDD"
      },
      "source": [
        ""
      ],
      "execution_count": 2,
      "outputs": []
    }
  ]
}