{
  "nbformat": 4,
  "nbformat_minor": 0,
  "metadata": {
    "colab": {
      "name": "05_1차원 배열.ipynb",
      "provenance": [],
      "collapsed_sections": []
    },
    "kernelspec": {
      "name": "python3",
      "display_name": "Python 3"
    },
    "language_info": {
      "name": "python"
    }
  },
  "cells": [
    {
      "cell_type": "code",
      "metadata": {
        "colab": {
          "base_uri": "https://localhost:8080/"
        },
        "id": "rsFt-HfSxTc-",
        "outputId": "98ffe055-d7d5-443d-cd1b-096a92b54a99"
      },
      "source": [
        "# 1. 최소, 최대\n",
        "# N개의 정수가 주어진다. 이때, 최솟값과 최댓값을 구하는 프로그램을 작성\n",
        "\n",
        "N = int(input())\n",
        "li = list(map(int, input().split()))\n",
        "m, n = li[0], li[0]\n",
        "for i in li[1:] :\n",
        "  if i > m :\n",
        "    m = i\n",
        "  elif i < n :\n",
        "    n = i\n",
        "  \n",
        "print('min {}, max : {}'.format(n, m))"
      ],
      "execution_count": 1,
      "outputs": [
        {
          "output_type": "stream",
          "name": "stdout",
          "text": [
            "5\n",
            "20 10 35 30 7\n",
            "min 7, max : 35\n"
          ]
        }
      ]
    },
    {
      "cell_type": "code",
      "metadata": {
        "id": "fjGFbvEz2V9i",
        "colab": {
          "base_uri": "https://localhost:8080/"
        },
        "outputId": "0cc76da7-1696-4e52-d20d-5c0f024d16f2"
      },
      "source": [
        "# 2. 최댓값\n",
        "# 9개의 서로 다른 자연수가 주어질 때, \n",
        "# 이들 중 최댓값을 찾고 그 최댓값이 몇 번째 수인지를 구하는 프로그램을 작성\n",
        "\n",
        "m = 0\n",
        "k = 0\n",
        "for i in range(9) :\n",
        "  num = int(input())\n",
        "  if num > m :\n",
        "    m = num\n",
        "    k = i+1\n",
        "\n",
        "print(m)\n",
        "print(k)"
      ],
      "execution_count": 2,
      "outputs": [
        {
          "output_type": "stream",
          "name": "stdout",
          "text": [
            "3\n",
            "29\n",
            "38\n",
            "12\n",
            "57\n",
            "74\n",
            "40\n",
            "85\n",
            "61\n",
            "85\n",
            "8\n"
          ]
        }
      ]
    },
    {
      "cell_type": "code",
      "metadata": {
        "id": "_EOk66fT4cnZ",
        "colab": {
          "base_uri": "https://localhost:8080/"
        },
        "outputId": "0cef83d6-5fcb-4a1a-e54a-819d6014f93d"
      },
      "source": [
        "# 3. 숫자의 개수\n",
        "# 세 개의 자연수 A, B, C가 주어질 때 \n",
        "# A × B × C를 계산한 결과에 0부터 9까지 각각의 숫자가 몇 번씩 쓰였는지를 구하는 프로그램을 작성\n",
        "\n",
        "a = int(input())\n",
        "b = int(input())\n",
        "c = int(input())\n",
        "result = str(a * b * c)\n",
        "for i in range(10) :\n",
        "  cnt = result.count(str(i))\n",
        "  print(cnt)"
      ],
      "execution_count": 3,
      "outputs": [
        {
          "output_type": "stream",
          "name": "stdout",
          "text": [
            "150\n",
            "266\n",
            "427\n",
            "3\n",
            "1\n",
            "0\n",
            "2\n",
            "0\n",
            "0\n",
            "0\n",
            "2\n",
            "0\n",
            "0\n"
          ]
        }
      ]
    },
    {
      "cell_type": "code",
      "metadata": {
        "id": "QSexjx-h5ufi",
        "colab": {
          "base_uri": "https://localhost:8080/"
        },
        "outputId": "2eac2e7d-cd81-42e4-c808-790bb6e6b50e"
      },
      "source": [
        "# 4. 나머지\n",
        "# 두 자연수 A와 B가 있을 때, A%B는 A를 B로 나눈 나머지 이다.\n",
        "# 수 10개를 입력받은 뒤, 이를 42로 나눈 나머지를 구한다.\n",
        "# 그 다음 서로 다른 값이 몇 개 있는지 출력하는 프로그램을 작성\n",
        "\n",
        "s = set()\n",
        "for _ in range(10) :\n",
        "  num = int(input())\n",
        "  s.add(num % 42)\n",
        "\n",
        "print(len(s))"
      ],
      "execution_count": 4,
      "outputs": [
        {
          "output_type": "stream",
          "name": "stdout",
          "text": [
            "1\n",
            "2\n",
            "3\n",
            "4\n",
            "5\n",
            "6\n",
            "7\n",
            "8\n",
            "9\n",
            "10\n",
            "10\n"
          ]
        }
      ]
    },
    {
      "cell_type": "code",
      "metadata": {
        "colab": {
          "base_uri": "https://localhost:8080/"
        },
        "id": "TMYErSDa7BNv",
        "outputId": "83369acf-195d-4a6b-99c1-7cfd7f6f71c1"
      },
      "source": [
        "# 5. 평균\n",
        "# 세준이는 자기 점수 중에 최댓값을 골랐다. 이 값을 M이라고 한다. \n",
        "# 그리고 나서 모든 점수를 점수/M*100으로 고쳤다.\n",
        "# 예를 들어, 세준이의 최고점이 70이고, 수학점수가 50이었으면 수학점수는 50/70*100이 되어 71.43점이 된다.\n",
        "# 세준이의 성적을 위의 방법대로 새로 계산했을 때, 새로운 평균을 구하는 프로그램을 작성\n",
        "\n",
        "N = int(input())\n",
        "scores = list(map(int, input().split()))\n",
        "m = max(scores)\n",
        "for i in range(N) :\n",
        "  scores[i] = scores[i] / m * 100\n",
        "print(sum(scores) / len(scores))"
      ],
      "execution_count": 6,
      "outputs": [
        {
          "output_type": "stream",
          "name": "stdout",
          "text": [
            "3\n",
            "40 80 60\n",
            "75.0\n"
          ]
        }
      ]
    },
    {
      "cell_type": "code",
      "metadata": {
        "id": "fzCaewB7-SRP",
        "colab": {
          "base_uri": "https://localhost:8080/"
        },
        "outputId": "0adca5a6-5ab2-4105-869a-345028b32dd6"
      },
      "source": [
        "# 6. OX 퀴즈\n",
        "# O는 문제를 맞은 것이고, X는 문제를 틀린 것이다. \n",
        "# 문제를 맞은 경우 그 문제의 점수는 그 문제까지 연속된 O의 개수가 된다.\n",
        "# \"OOXXOXXOOO\"의 점수는 1+2+0+0+1+0+0+1+2+3 = 10점이다.\n",
        "# 첫째 줄에 테스트 케이스의 개수가 주어진다\n",
        "\n",
        "N = int(input())\n",
        "for _ in range(N) :\n",
        "  s = input()\n",
        "  cnt = 0\n",
        "  sum_cnt = 0\n",
        "  for i in s :\n",
        "    if i == 'O' :\n",
        "      cnt += 1\n",
        "      sum_cnt += cnt\n",
        "    else :\n",
        "      cnt = 0\n",
        "  print(sum_cnt)"
      ],
      "execution_count": 7,
      "outputs": [
        {
          "output_type": "stream",
          "name": "stdout",
          "text": [
            "5\n",
            "OOXXOXXOOO\n",
            "10\n",
            "OOXXOOXXOO\n",
            "9\n",
            "OXOXOXOXOXOXOX\n",
            "7\n",
            "OOOOOOOOOO\n",
            "55\n",
            "OOOOXOOOOXOOOOX\n",
            "30\n"
          ]
        }
      ]
    },
    {
      "cell_type": "code",
      "metadata": {
        "colab": {
          "base_uri": "https://localhost:8080/"
        },
        "id": "XouFW-3JbFmc",
        "outputId": "0fef1b69-0099-482e-917b-d1fb80494f3a"
      },
      "source": [
        "# 7. 평균은 넘겠지\n",
        "# 첫째 줄에는 테스트 케이스의 개수 C가 주어진다.\n",
        "# 둘째 줄부터 각 테스트 케이스마다 학생의 수 N이 첫 수로 주어지고, 이어서 N명의 점수가 주어진다.\n",
        "# 각 케이스마다 한 줄씩 평균을 넘는 학생들의 비율을 반올림하여 소수점 셋째 자리까지 출력\n",
        "\n",
        "C = int(input())\n",
        "for i in range(C) :\n",
        "  N = list(map(int, input().split()))\n",
        "  N_mean = (sum(N) - N[0])/(len(N)-1)\n",
        "  score_sum = 0\n",
        "  cnt = 0\n",
        "  for i in N[1:] :\n",
        "    if i > N_mean :\n",
        "      score_sum += i\n",
        "      cnt += 1\n",
        "  print('{:.3f}%'.format((cnt / (len(N)-1))*100))"
      ],
      "execution_count": 8,
      "outputs": [
        {
          "output_type": "stream",
          "name": "stdout",
          "text": [
            "5\n",
            "5 50 50 70 80 100\n",
            "40.000%\n",
            "7 100 95 90 80 70 60 50\n",
            "57.143%\n",
            "3 70 90 80\n",
            "33.333%\n",
            "3 70 90 81\n",
            "66.667%\n",
            "9 100 99 98 97 96 95 94 93 91\n",
            "55.556%\n"
          ]
        }
      ]
    }
  ]
}