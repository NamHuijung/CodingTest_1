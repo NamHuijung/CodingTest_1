{
  "nbformat": 4,
  "nbformat_minor": 0,
  "metadata": {
    "colab": {
      "name": "04_while문.ipynb",
      "provenance": [],
      "collapsed_sections": []
    },
    "kernelspec": {
      "name": "python3",
      "display_name": "Python 3"
    },
    "language_info": {
      "name": "python"
    }
  },
  "cells": [
    {
      "cell_type": "code",
      "metadata": {
        "colab": {
          "base_uri": "https://localhost:8080/"
        },
        "id": "IjB3iGVVXb6Z",
        "outputId": "b6d05c52-66bd-4cbe-f49c-447c8808650f"
      },
      "source": [
        "# 1. A+B - 5\n",
        "# 두 정수 A와 B를 입력받은 다음, A+B를 출력하는 프로그램을 작성\n",
        "# 입력은 여러 개의 테스트 케이스로 이루어져 있다.\n",
        "# 각 테스트 케이스는 한 줄로 이루어져 있으며, 각 줄에 A와 B가 주어진다. (0 < A, B < 10)\n",
        "# 입력의 마지막에는 0 두 개가 들어온다.\n",
        "\n",
        "while True :\n",
        "  a, b = map(int, input().split())\n",
        "  if (a != 0) and (b != 0) :\n",
        "    print(a+b)\n",
        "  else :\n",
        "    break"
      ],
      "execution_count": 1,
      "outputs": [
        {
          "name": "stdout",
          "output_type": "stream",
          "text": [
            "1 1\n",
            "2\n",
            "2 3\n",
            "5\n",
            "3 4\n",
            "7\n",
            "0 0\n"
          ]
        }
      ]
    },
    {
      "cell_type": "code",
      "metadata": {
        "id": "QpsiRAn0aTxM",
        "colab": {
          "base_uri": "https://localhost:8080/"
        },
        "outputId": "3ab15025-d139-4403-d576-6e4933fb59a5"
      },
      "source": [
        "# 2. A+B - 4\n",
        "# 두 정수 A와 B를 입력받은 다음, A+B를 출력하는 프로그램을 작성\n",
        "# 입력은 여러 개의 테스트 케이스로 이루어져 있다.\n",
        "# 각 테스트 케이스는 한 줄로 이루어져 있으며, 각 줄에 A와 B가 주어진다.\n",
        "# EOF 사용\n",
        "\n",
        "while True :\n",
        "  try :\n",
        "    a, b = map(int, input().split())\n",
        "    print(a + b)\n",
        "  except :\n",
        "    break\n",
        "\n",
        "# try - except : try 부분에서 에러가 발생한 경우 except부분 실행"
      ],
      "execution_count": 2,
      "outputs": [
        {
          "name": "stdout",
          "output_type": "stream",
          "text": [
            "1 1\n",
            "2\n",
            "2 3\n",
            "5\n",
            "9 8\n",
            "17\n",
            "\n"
          ]
        }
      ]
    },
    {
      "cell_type": "code",
      "metadata": {
        "colab": {
          "base_uri": "https://localhost:8080/"
        },
        "id": "7Z-pTimPslla",
        "outputId": "10b161e8-8d00-471b-824f-43aae228c7b5"
      },
      "source": [
        "# 3. 더하기 사이클\n",
        "# 주어진 수가 10보다 작다면 앞에 0을 붙여 두 자리 수로 만들고, 각 자리의 숫자를 더한다. \n",
        "# 그 다음, 주어진 수의 가장 오른쪽 자리 수와 앞에서 구한 합의 가장 오른쪽 자리 수를 이어 붙이면 새로운 수를 만들 수 있다. \n",
        "# N이 주어졌을 때, N의 사이클의 길이를 구하는 프로그램을 작성\n",
        "\n",
        "N = int(input())\n",
        "cnt = 0\n",
        "num = N\n",
        "while True :\n",
        "  num_1 = num // 10\n",
        "  num_2 = num % 10\n",
        "  num = (num_1 + num_2) % 10\n",
        "  num = num_2*10 + num\n",
        "  cnt += 1\n",
        "  if num == N :\n",
        "    break\n",
        "\n",
        "print(cnt)"
      ],
      "execution_count": 3,
      "outputs": [
        {
          "output_type": "stream",
          "name": "stdout",
          "text": [
            "26\n",
            "4\n"
          ]
        }
      ]
    },
    {
      "cell_type": "code",
      "metadata": {
        "id": "_9Y-DUhTwXwN"
      },
      "source": [
        ""
      ],
      "execution_count": 3,
      "outputs": []
    }
  ]
}