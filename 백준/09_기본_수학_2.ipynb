{
  "nbformat": 4,
  "nbformat_minor": 0,
  "metadata": {
    "colab": {
      "name": "09_기본 수학 2.ipynb",
      "provenance": [],
      "collapsed_sections": []
    },
    "kernelspec": {
      "name": "python3",
      "display_name": "Python 3"
    },
    "language_info": {
      "name": "python"
    }
  },
  "cells": [
    {
      "cell_type": "code",
      "execution_count": 1,
      "metadata": {
        "colab": {
          "base_uri": "https://localhost:8080/"
        },
        "id": "8OAvYVq9jmZG",
        "outputId": "45bf0282-be1e-4607-cd9f-e06c616a8b2b"
      },
      "outputs": [
        {
          "output_type": "stream",
          "name": "stdout",
          "text": [
            "4\n",
            "1 3 5 7\n",
            "3\n"
          ]
        }
      ],
      "source": [
        "# 1. 소수찾기\n",
        "# 2부터 X-1까지 모두 나눠서 X가 소수인지 판별하는 문제1\n",
        "\n",
        "N = int(input())\n",
        "nums = list(map(int, input().split()))\n",
        "cnt = 0\n",
        "for num in nums :\n",
        "  a = 0\n",
        "  if num == 1 :\n",
        "    continue\n",
        "  else :\n",
        "    for k in range(2, num+1) :\n",
        "      if (num % k == 0) :\n",
        "        a += 1\n",
        "    if a == 1 :\n",
        "      cnt += 1\n",
        "\n",
        "print(cnt)"
      ]
    },
    {
      "cell_type": "code",
      "source": [
        "# 2. 소수\n",
        "# 2부터 X-1까지 모두 나눠서 X가 소수인지 판별하는 문제2\n",
        "\n",
        "M = int(input()) # 최소\n",
        "N = int(input()) # 최대\n",
        "nums = []\n",
        "\n",
        "for num in range(M, N+1) :\n",
        "  cnt = 0 \n",
        "  if num == 1 :\n",
        "    continue\n",
        "  else :\n",
        "    for k in range(2, num) :\n",
        "      if (num % k == 0) :\n",
        "        cnt += 1\n",
        "        break\n",
        "    if cnt == 0 :\n",
        "      nums.append(num)\n",
        "\n",
        "if len(nums) > 0 :\n",
        "  print(sum(nums))\n",
        "  print(min(nums))\n",
        "else :\n",
        "  print(-1)"
      ],
      "metadata": {
        "colab": {
          "base_uri": "https://localhost:8080/"
        },
        "id": "-rBCkm_9jz4q",
        "outputId": "f502d226-9d1c-42fb-96cc-3328fe0998aa"
      },
      "execution_count": 2,
      "outputs": [
        {
          "output_type": "stream",
          "name": "stdout",
          "text": [
            "60\n",
            "100\n",
            "620\n",
            "61\n"
          ]
        }
      ]
    },
    {
      "cell_type": "code",
      "source": [
        "1# 3. 소인수분해\n",
        "# N을 소인수분해하는 문제\n",
        "\n",
        "N = int(input())\n",
        "if N == 1 :\n",
        "  print('')\n",
        "else :\n",
        "  for i in range(2, N+1) :\n",
        "    while N % i == 0 :\n",
        "      print(i)\n",
        "      N /= i"
      ],
      "metadata": {
        "colab": {
          "base_uri": "https://localhost:8080/"
        },
        "id": "zE-8Sy0sj0vB",
        "outputId": "a9512ddf-bd32-4552-f879-24a940c702da"
      },
      "execution_count": 3,
      "outputs": [
        {
          "output_type": "stream",
          "name": "stdout",
          "text": [
            "72\n",
            "2\n",
            "2\n",
            "2\n",
            "3\n",
            "3\n"
          ]
        }
      ]
    },
    {
      "cell_type": "code",
      "source": [
        "# 4. 소수 구하기\n",
        "# 에라토스테네스의 체\n",
        "\n",
        "M, N = map(int, input().split())\n",
        "\n",
        "for num in range(M, N+1):\n",
        "    if num == 1 :\n",
        "        continue\n",
        "    for k in range(2, int(num**0.5)+1 ):\n",
        "        if num % k == 0 :\n",
        "            break\n",
        "    else:\n",
        "        print(num)"
      ],
      "metadata": {
        "colab": {
          "base_uri": "https://localhost:8080/"
        },
        "id": "cCR7_Q5bj2gW",
        "outputId": "042a8a90-bed3-4e2e-8da2-e21bdb65a866"
      },
      "execution_count": 4,
      "outputs": [
        {
          "output_type": "stream",
          "name": "stdout",
          "text": [
            "3 16\n",
            "3\n",
            "5\n",
            "7\n",
            "11\n",
            "13\n"
          ]
        }
      ]
    },
    {
      "cell_type": "code",
      "source": [
        "# 5. 베르트랑 공준\n",
        "# 소수 응용 문제 1\n",
        "\n",
        "while True :\n",
        "  cnt = 0\n",
        "  n = int(input())\n",
        "  if n == 0 :\n",
        "    break\n",
        "  for num in range(n, 2*n+1):\n",
        "      if num == 1 :\n",
        "          continue\n",
        "      for k in range(2, int(num**0.5)+1 ):\n",
        "          if num % k == 0 :\n",
        "              break\n",
        "      else:\n",
        "          cnt += 1\n",
        "  print(cnt)"
      ],
      "metadata": {
        "colab": {
          "base_uri": "https://localhost:8080/"
        },
        "id": "j9HGgo-Yj455",
        "outputId": "65a1fc48-c41c-48e5-dcf7-5d2c71260845"
      },
      "execution_count": 5,
      "outputs": [
        {
          "name": "stdout",
          "output_type": "stream",
          "text": [
            "1\n",
            "1\n",
            "10\n",
            "4\n",
            "13\n",
            "4\n",
            "100\n",
            "21\n",
            "0\n"
          ]
        }
      ]
    },
    {
      "cell_type": "code",
      "source": [
        "# 5 - 다른 풀이\n",
        "# 미리 최대 n(<=123456)의 소수를 모두 구해 놓고\n",
        "# 에라토스테네스의 체를 이용하여 모든 소수를 구하고,\n",
        "# n+1 <= x <= 2n 범위의 소수를 세어준다.\n",
        "\n",
        "N = 123456 * 2 + 1\n",
        "sieve = [True] * N\n",
        "for i in range(2, int(N**0.5)+1):\n",
        "    if sieve[i]:\n",
        "        for j in range(2*i, N, i):\n",
        "            sieve[j] = False\n",
        "\n",
        "def prime_cnt(val):\n",
        "    cnt = 0\n",
        "    for i in range(val + 1, val * 2 + 1):\n",
        "        if sieve[i]:\n",
        "            cnt += 1\n",
        "    print(cnt)\n",
        "\n",
        "while True:\n",
        "    val = int(input())\n",
        "    if val == 0:\n",
        "        break\n",
        "    prime_cnt(val)"
      ],
      "metadata": {
        "colab": {
          "base_uri": "https://localhost:8080/"
        },
        "id": "8kNLOzgE0TKi",
        "outputId": "8e44d04e-8682-4bbe-aa29-5fe37ff45c31"
      },
      "execution_count": 6,
      "outputs": [
        {
          "name": "stdout",
          "output_type": "stream",
          "text": [
            "1\n",
            "1\n",
            "10\n",
            "4\n",
            "13\n",
            "3\n",
            "100\n",
            "21\n",
            "21\n",
            "5\n",
            "0\n"
          ]
        }
      ]
    },
    {
      "cell_type": "code",
      "source": [
        "# 6. 골드바흐의 추측\n",
        "# 소수 응용 문제 2\n",
        "\n",
        "sosu = [0 for i in range(10001)]\n",
        "sosu[1] = 1\n",
        "for i in range(2, 98):\n",
        "    for j in range(i * 2, 10001, i):\n",
        "        sosu[j] = 1\n",
        "t = int(input())\n",
        "for i in range(t):\n",
        "    a = int(input())\n",
        "    b = a // 2\n",
        "    for j in range(b, 1, -1):\n",
        "        if sosu[a - j] == 0 and sosu[j] == 0:\n",
        "            print(j, a - j)\n",
        "            break\n",
        "\n",
        "# 에라토스테네스의 체로 소수를 판별\n",
        "# 우선 두 소수의 차이가 가장 작은것을 출력\n",
        "# 작은 소수부터 출력\n",
        "# 그래서 입력받은 a에 2를 나눈 몫부터 시작\n",
        "# 입력받은 a에 소수를 빼주었을때 빼준 값도 소수라면 그 두 소수가 정답10"
      ],
      "metadata": {
        "id": "L6Xo9JMjj6em",
        "colab": {
          "base_uri": "https://localhost:8080/"
        },
        "outputId": "92c029ff-c56c-44ef-b14f-145a76b663ab"
      },
      "execution_count": 7,
      "outputs": [
        {
          "output_type": "stream",
          "name": "stdout",
          "text": [
            "3\n",
            "8\n",
            "3 5\n",
            "10\n",
            "5 5\n",
            "16\n",
            "5 11\n"
          ]
        }
      ]
    },
    {
      "cell_type": "code",
      "source": [
        "# 7. 직사각형에서 탈출\n",
        "# 직사각형과 점의 거리를 구하는 문제\n",
        "\n",
        "x, y, w, h = map(int, input().split())\n",
        "print(min(x, y, w-x, h-y))"
      ],
      "metadata": {
        "id": "ln8zzM6yj9mr",
        "colab": {
          "base_uri": "https://localhost:8080/"
        },
        "outputId": "5319e852-8370-4652-e5e6-9e54918260f7"
      },
      "execution_count": 8,
      "outputs": [
        {
          "output_type": "stream",
          "name": "stdout",
          "text": [
            "6 2 10 3\n",
            "1\n"
          ]
        }
      ]
    },
    {
      "cell_type": "code",
      "source": [
        "# 8. 네 번재 점\n",
        "# 직사각형을 완성하는 문제\n",
        "\n",
        "x_nums = []\n",
        "y_nums = []\n",
        "for _ in range(3):\n",
        "    x, y = map(int, input().split())\n",
        "    x_nums.append(x)\n",
        "    y_nums.append(y)\n",
        "\n",
        "for i in range(3):\n",
        "    if x_nums.count(x_nums[i]) == 1:\n",
        "        x4 = x_nums[i]\n",
        "    if y_nums.count(y_nums[i]) == 1:\n",
        "        y4 = y_nums[i]\n",
        "print(x4, y4)"
      ],
      "metadata": {
        "id": "-EDbJgdHkAEh",
        "colab": {
          "base_uri": "https://localhost:8080/"
        },
        "outputId": "0ff01875-12f3-48ba-b454-2b1f91c94a21"
      },
      "execution_count": 9,
      "outputs": [
        {
          "output_type": "stream",
          "name": "stdout",
          "text": [
            "5 5\n",
            "5 7\n",
            "7 5\n",
            "7 7\n"
          ]
        }
      ]
    },
    {
      "cell_type": "code",
      "source": [
        "# 9. 직사각형\n",
        "# 피타고라스의 정리에 대해 배우는 문제\n",
        "\n",
        "while True :\n",
        "  nums = list(map(int, input().split()))\n",
        "  if sum(nums) == 0 :\n",
        "    break\n",
        "  nums = sorted(nums)\n",
        "  if nums[0]**2 + nums[1]**2 == nums[2]**2 :\n",
        "    print('right')\n",
        "  else :\n",
        "    print('wrong')"
      ],
      "metadata": {
        "colab": {
          "base_uri": "https://localhost:8080/"
        },
        "id": "-iEqcgd3kByi",
        "outputId": "98929644-3413-483a-d2a5-ab8d1d19e8a1"
      },
      "execution_count": 10,
      "outputs": [
        {
          "name": "stdout",
          "output_type": "stream",
          "text": [
            "6 8 10\n",
            "right\n",
            "25 52 60\n",
            "wrong\n",
            "0 0 0\n"
          ]
        }
      ]
    },
    {
      "cell_type": "code",
      "source": [
        "# 10. 택시 기하학\n",
        "# 유클리드 기하학과 택시 기하학에 대한 문제\n",
        "\n",
        "# 유클리드 기하학 원의 넓이 :반지름 x 반지름 x 원주율\n",
        "# 택시 기하학 원의 넓이 : 2 x 반지름 x 반지름\n",
        "\n",
        "from math import pi\n",
        "R = int(input())\n",
        "print(R*R*pi)\n",
        "print(2*R*R)"
      ],
      "metadata": {
        "id": "RXF29hJikEEn",
        "colab": {
          "base_uri": "https://localhost:8080/"
        },
        "outputId": "90994cc9-ee47-4e96-a295-3f175a0fb60f"
      },
      "execution_count": 11,
      "outputs": [
        {
          "output_type": "stream",
          "name": "stdout",
          "text": [
            "1\n",
            "3.141592653589793\n",
            "2\n"
          ]
        }
      ]
    },
    {
      "cell_type": "code",
      "source": [
        "# 11. 터렛\n",
        "# 두 원의 교점의 개수를 구하는 문제\n",
        "\n",
        "import math\n",
        "\n",
        "T = int(input())\n",
        "\n",
        "for _ in range(T):\n",
        "    x1, y1, r1, x2, y2, r2 = list(map(int, input().split()))\n",
        "    \n",
        "    # 두 원의 중심 사이의 거리\n",
        "    dis = math.sqrt((x1 - x2)**2 + (y1 - y2)**2)\n",
        "    \n",
        "    if dis == 0:    # 두 원의 중심이 같을 경우\n",
        "        if r1 == r2: # 두 원의 크기가 같아 겹치는 경우\n",
        "            print(-1)\n",
        "        else:                     # 한 원이 다른 원 안에 들어가 있는 경우\n",
        "            print(0)\n",
        "    else:            # 두 원의 중심이 다를 경우\n",
        "        if r1+r2 == dis or abs(r2-r1) == dis:\n",
        "            print(1)\n",
        "        elif ((abs(r1-r2) < dis) and (dis < r1+r2)):\n",
        "            print(2)\n",
        "        else:\n",
        "            print(0)"
      ],
      "metadata": {
        "id": "rpYfVNPYkF6J",
        "colab": {
          "base_uri": "https://localhost:8080/"
        },
        "outputId": "b974a2d7-8b13-4879-8665-676f1ea4e055"
      },
      "execution_count": 12,
      "outputs": [
        {
          "output_type": "stream",
          "name": "stdout",
          "text": [
            "1\n",
            "0 0 13 40 0 37\n",
            "2\n"
          ]
        }
      ]
    },
    {
      "cell_type": "code",
      "source": [
        ""
      ],
      "metadata": {
        "id": "BoxGtfDekIYw"
      },
      "execution_count": 12,
      "outputs": []
    }
  ]
}