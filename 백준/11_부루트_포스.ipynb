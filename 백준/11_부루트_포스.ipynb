{
  "nbformat": 4,
  "nbformat_minor": 0,
  "metadata": {
    "colab": {
      "name": "11_부루트 포스.ipynb",
      "provenance": [],
      "collapsed_sections": []
    },
    "kernelspec": {
      "name": "python3",
      "display_name": "Python 3"
    },
    "language_info": {
      "name": "python"
    },
    "accelerator": "GPU"
  },
  "cells": [
    {
      "cell_type": "code",
      "execution_count": 7,
      "metadata": {
        "colab": {
          "base_uri": "https://localhost:8080/"
        },
        "id": "PnGMksRrVAru",
        "outputId": "886b8074-1be8-49f7-ef98-cd4271076700"
      },
      "outputs": [
        {
          "output_type": "stream",
          "name": "stdout",
          "text": [
            "5 21\n",
            "5 6 7 8 9\n",
            "21\n"
          ]
        }
      ],
      "source": [
        "# 1. 블랙잭\n",
        "# 세 장의 카드를 고르는 모든 경우를 고려하는 문제\n",
        "\n",
        "N, M = map(int, input().split())\n",
        "nums = list(map(int, input().split()))\n",
        "\n",
        "res = 0\n",
        "for i in range(N):\n",
        "  for j in range(i+1, N):\n",
        "    for k in range(j+1, N):\n",
        "      hap = nums[i] + nums[j] + nums[k]\n",
        "      if hap > M:\n",
        "        continue\n",
        "      else:\n",
        "        res = max(res, hap)\n",
        "\n",
        "print(res)"
      ]
    },
    {
      "cell_type": "code",
      "source": [
        "# 2. 분해합\n",
        "# 모든 경우를 시도하여 N의 생성자를 구하는 문제\n",
        "\n",
        "N = int(input())\n",
        "res = 0\n",
        "for i in range(1, N+1):\n",
        "  num = list(map(int, str(i)))\n",
        "  res = i + sum(num)\n",
        "  if res == N:\n",
        "    print(i)\n",
        "    break\n",
        "\n",
        "  if i == N:\n",
        "    print(0)"
      ],
      "metadata": {
        "colab": {
          "base_uri": "https://localhost:8080/"
        },
        "id": "z7Xi5XwKWvCE",
        "outputId": "6ea2d8be-a419-4145-e137-8267ac0976b0"
      },
      "execution_count": 8,
      "outputs": [
        {
          "output_type": "stream",
          "name": "stdout",
          "text": [
            "216\n",
            "198\n"
          ]
        }
      ]
    },
    {
      "cell_type": "code",
      "source": [
        "# 3. 덩치\n",
        "# 모든 사람을 비교하여 덩치 등수를 구하는 문제\n",
        "\n",
        "N = int(input())\n",
        "\n",
        "people = []\n",
        "for _ in range(N):\n",
        "    w, h = map(int, input().split())\n",
        "    people.append((w, h))\n",
        "\n",
        "for c in people : #0\n",
        "    rank = 1 #1 \n",
        "    \n",
        "    for n in people:\n",
        "        if (c[0]!=n[0]) & (c[1]!=n[1]): #2  \n",
        "            if (c[0]<n[0]) & (c[1]<n[1]): #3 w, h 모두 큰 경우\n",
        "                rank += 1\n",
        "            \n",
        "    print(rank)"
      ],
      "metadata": {
        "colab": {
          "base_uri": "https://localhost:8080/"
        },
        "id": "TT0pmwFbWzMK",
        "outputId": "e18aaa56-5629-49b5-d2c9-8ac9a5aaa227"
      },
      "execution_count": 9,
      "outputs": [
        {
          "output_type": "stream",
          "name": "stdout",
          "text": [
            "3\n",
            "55 185\n",
            "58 183\n",
            "88 186\n",
            "2\n",
            "2\n",
            "1\n"
          ]
        }
      ]
    },
    {
      "cell_type": "code",
      "source": [
        "# 4. 체스판 다시 칠하기\n",
        "# 체스판을 만드는 모든 경우를 시도하여 최적의 방법을 찾는 문제\n",
        "\n",
        "N, M = map(int, input().split())\n",
        "board = []\n",
        "for i in range(N):\n",
        "  board.append(input())\n",
        "\n",
        "result = []\n",
        "for i in range(N-7): # 보드에서 8열 자를 공간 확보\n",
        "  for j in range(M-7): # 8행 자를 공간 확보\n",
        "    cnt = 0 # 바꿀 횟수\n",
        "    temp = 0 # 인덱스 0 ~ 56, 이전 줄의 마지막 인덱스와 그 다음 줄의 첫 번째 인덱스가 같다 - 짝수 판별을 위해\n",
        "\n",
        "    for k in range(i, i+8):\n",
        "      for l in range(j, j+8):\n",
        "        # 체스판의 첫번째 인덱스가 'W'로 시작한다고 가정\n",
        "        if temp % 2 == 0:\n",
        "          if board[k][l] != 'W':\n",
        "            cnt += 1\n",
        "          else:\n",
        "            if board[k][l] != 'B':\n",
        "              cnt += 1\n",
        "\n",
        "          if l != j+7: #마지막 인덱스가 아닌 경우 1 증가\n",
        "            temp += 1\n",
        "\n",
        "\n",
        "      # 체스판이 'B'로 시작할 때의 변경 횟수와 비교\n",
        "      result.append(min(cnt, 64-cnt))\n",
        "\n",
        "print(min(result))"
      ],
      "metadata": {
        "colab": {
          "base_uri": "https://localhost:8080/"
        },
        "id": "8vE0Rxe4W43P",
        "outputId": "eab73501-9048-4938-c5c1-8258e835c460"
      },
      "execution_count": 10,
      "outputs": [
        {
          "output_type": "stream",
          "name": "stdout",
          "text": [
            "8 8\n",
            "WBWBWBWB\n",
            "BWBWBWBW\n",
            "WBWBWBWB\n",
            "BWBBBWBW\n",
            "WBWBWBWB\n",
            "BWBWBWBW\n",
            "WBWBWBWB\n",
            "BWBWBWBW\n",
            "1\n"
          ]
        }
      ]
    },
    {
      "cell_type": "code",
      "source": [
        "# 5. 영화감독 숌\n",
        "# N번째 종말의 수가 나올 때까지 차례대로 시도하는 문제\n",
        "\n",
        "num = int(input())\n",
        "cnt = 0\n",
        "six_n = 666\n",
        "while True:\n",
        "  if '666' in str(six_n):\n",
        "    cnt += 1\n",
        "  if cnt == num:\n",
        "    print(six_n)\n",
        "    break\n",
        "\n",
        "  six_n += 1"
      ],
      "metadata": {
        "colab": {
          "base_uri": "https://localhost:8080/"
        },
        "id": "DtAFCU_aXF_W",
        "outputId": "07c82987-0a25-4331-a90b-e648f21e38f9"
      },
      "execution_count": 3,
      "outputs": [
        {
          "output_type": "stream",
          "name": "stdout",
          "text": [
            "2\n",
            "1666\n"
          ]
        }
      ]
    },
    {
      "cell_type": "code",
      "source": [
        ""
      ],
      "metadata": {
        "id": "Jes6xIg5XQmp"
      },
      "execution_count": null,
      "outputs": []
    }
  ]
}