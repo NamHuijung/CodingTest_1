{
  "nbformat": 4,
  "nbformat_minor": 0,
  "metadata": {
    "colab": {
      "name": "02_if문.ipynb",
      "provenance": [],
      "collapsed_sections": []
    },
    "kernelspec": {
      "name": "python3",
      "display_name": "Python 3"
    },
    "language_info": {
      "name": "python"
    }
  },
  "cells": [
    {
      "cell_type": "code",
      "metadata": {
        "colab": {
          "base_uri": "https://localhost:8080/"
        },
        "id": "JdnJoDn5hFyp",
        "outputId": "272fe41e-a79e-4221-df22-af9737452a73"
      },
      "source": [
        "# 1. 두 수 비교하기\n",
        "# 두 정수 A와 B가 주어졌을 때, A와 B를 비교하는 프로그램을 작성하시오.\n",
        "\n",
        "a, b = map(int, input().split())\n",
        "\n",
        "if a > b :\n",
        "  print('>')\n",
        "elif a < b :\n",
        "  print('<')\n",
        "else :\n",
        "  print('==')"
      ],
      "execution_count": 1,
      "outputs": [
        {
          "output_type": "stream",
          "name": "stdout",
          "text": [
            "10 2\n",
            ">\n"
          ]
        }
      ]
    },
    {
      "cell_type": "code",
      "metadata": {
        "colab": {
          "base_uri": "https://localhost:8080/"
        },
        "id": "3Sh20DVDlhpT",
        "outputId": "1ea72f30-ec67-4364-840a-bb9419128146"
      },
      "source": [
        "# 2. 시험 성적\n",
        "# 시험 점수를 입력받아 \n",
        "              # 90 ~ 100점은 A,\n",
        "              #  80 ~ 89점은 B, \n",
        "              #  70 ~ 79점은 C, \n",
        "              #  60 ~ 69점은 D, \n",
        "              #  나머지 점수는 F를 출력하는 프로그램을 작성\n",
        "\n",
        "score = int(input('점수 : '))\n",
        "if score >= 90 :\n",
        "  print('A')\n",
        "elif score >=80 :\n",
        "  print('B')\n",
        "elif score >= 70 :\n",
        "  print('C')\n",
        "elif score >= 60 :\n",
        "  print('D')\n",
        "else :\n",
        "  print('F')"
      ],
      "execution_count": 2,
      "outputs": [
        {
          "output_type": "stream",
          "name": "stdout",
          "text": [
            "점수 : 100\n",
            "A\n"
          ]
        }
      ]
    },
    {
      "cell_type": "code",
      "metadata": {
        "id": "hZ2kePOPm3I8",
        "colab": {
          "base_uri": "https://localhost:8080/"
        },
        "outputId": "f363b125-3b00-4a23-fcd4-c3d57041fe16"
      },
      "source": [
        "# 3. 윤년\n",
        "# 연도가 주어졌을 때, 윤년이면 1, 아니면 0을 출력하는 프로그램\n",
        "# 윤년은 연도가 4의 배수이면서, 100의 배수가 아닐 때 또는 400의 배수일 때이다.\n",
        "\n",
        "year = int(input('연도 : '))\n",
        "if (year % 4 == 0) and ((year % 100 != 0) or (year % 400 == 0)) :\n",
        "  print(1)\n",
        "else : \n",
        "  print(0)"
      ],
      "execution_count": 3,
      "outputs": [
        {
          "output_type": "stream",
          "name": "stdout",
          "text": [
            "연도 : 2000\n",
            "1\n"
          ]
        }
      ]
    },
    {
      "cell_type": "code",
      "metadata": {
        "colab": {
          "base_uri": "https://localhost:8080/"
        },
        "id": "CkNlAfc1MRCE",
        "outputId": "2c310902-f903-454a-aae1-876656a41122"
      },
      "source": [
        "# 4. 사분면 고르기\n",
        "# 점의 좌표를 입력받아 그 점이 어느 사분면에 속하는지 알아내는 프로그램을 작성\n",
        "# 단, x좌표와 y좌표는 모두 양수나 음수라고 가정한다.\n",
        "\n",
        "x = int(input('x좌표 : '))\n",
        "y = int(input('y좌표 : '))\n",
        "\n",
        "if (x > 0) and (y > 0) :\n",
        "  print(1)\n",
        "elif (x > 0) and (y < 0) :\n",
        "  print(4)\n",
        "elif (x < 0) and (y > 0) :\n",
        "  print(2)\n",
        "else :\n",
        "  print(3)"
      ],
      "execution_count": 4,
      "outputs": [
        {
          "output_type": "stream",
          "name": "stdout",
          "text": [
            "x좌표 : 12\n",
            "y좌표 : 5\n",
            "1\n"
          ]
        }
      ]
    },
    {
      "cell_type": "code",
      "metadata": {
        "id": "d23j6_u5QkLr",
        "colab": {
          "base_uri": "https://localhost:8080/"
        },
        "outputId": "4013aeed-00ab-4052-d6e4-d8b986934a9c"
      },
      "source": [
        "# 5. 알람 시계\n",
        "# 원래 설정되어 있는 알람을 45분 앞서는 시간으로 바꾸는 것이다.\n",
        "# 입력 시간은 24시간 표현을 사용\n",
        "# 24시간 표현에서 하루의 시작은 0:0(자정)이고, 끝은 23:59(다음날 자정 1분 전)이다. \n",
        "# 시간을 나타낼 때, 불필요한 0은 사용하지 않는다.\n",
        "\n",
        "H = int(input('시간 : '))\n",
        "M = int(input('분 : '))\n",
        "\n",
        "if M >= 45 :\n",
        "  print(H, M-45)\n",
        "else :\n",
        "  print((H-1)%24, 15+M)"
      ],
      "execution_count": 5,
      "outputs": [
        {
          "output_type": "stream",
          "name": "stdout",
          "text": [
            "시간 : 0\n",
            "분 : 30\n",
            "23 45\n"
          ]
        }
      ]
    },
    {
      "cell_type": "code",
      "metadata": {
        "id": "91i9BPDdNMA3"
      },
      "source": [
        ""
      ],
      "execution_count": 5,
      "outputs": []
    }
  ]
}