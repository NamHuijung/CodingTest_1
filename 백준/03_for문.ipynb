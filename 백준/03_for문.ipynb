{
  "nbformat": 4,
  "nbformat_minor": 0,
  "metadata": {
    "colab": {
      "name": "03_for문.ipynb",
      "provenance": [],
      "collapsed_sections": []
    },
    "kernelspec": {
      "name": "python3",
      "display_name": "Python 3"
    },
    "language_info": {
      "name": "python"
    }
  },
  "cells": [
    {
      "cell_type": "code",
      "metadata": {
        "colab": {
          "base_uri": "https://localhost:8080/"
        },
        "id": "6bfrcziNlZKB",
        "outputId": "7b8da4df-0499-4b84-d251-5df8b3f1ea33"
      },
      "source": [
        "# 1. 구구단\n",
        "# N을 입력받은 뒤, 구구단 N단을 출력하는 프로그램을 작성\n",
        "# N*1부터 N*9까지 출력\n",
        "\n",
        "N = int(input('입력 : '))\n",
        "for i in range(9) :\n",
        "  print('{} * {} = {}'.format(N, i+1, N*(i+1)))"
      ],
      "execution_count": 1,
      "outputs": [
        {
          "output_type": "stream",
          "name": "stdout",
          "text": [
            "입력 : 2\n",
            "2 * 1 = 2\n",
            "2 * 2 = 4\n",
            "2 * 3 = 6\n",
            "2 * 4 = 8\n",
            "2 * 5 = 10\n",
            "2 * 6 = 12\n",
            "2 * 7 = 14\n",
            "2 * 8 = 16\n",
            "2 * 9 = 18\n"
          ]
        }
      ]
    },
    {
      "cell_type": "code",
      "metadata": {
        "colab": {
          "base_uri": "https://localhost:8080/"
        },
        "id": "kbJ1TPOrmMde",
        "outputId": "d5b7b896-00d6-4a44-f825-cafa824d5f6f"
      },
      "source": [
        "# 2. A+B-3\n",
        "# 두 정수 A와 B를 입력받은 다음, A+B를 출력하는 프로그램\n",
        "# 첫째 줄에 테스트 케이스의 개수 T가 주어진다.\n",
        "# 각 테스트 케이스는 한 줄로 이루어져 있으며, 각 줄에 A와 B가 주어진다.\n",
        "# 각 테스트 케이스마다 A+B를 출력\n",
        "\n",
        "T = int(input('time : '))\n",
        "for i in range(T) :\n",
        "  a, b = map(int, input('두 수 입력 : ').split())\n",
        "  print(a + b)"
      ],
      "execution_count": 2,
      "outputs": [
        {
          "output_type": "stream",
          "name": "stdout",
          "text": [
            "time : 5\n",
            "두 수 입력 : 1 1\n",
            "2\n",
            "두 수 입력 : 2 3\n",
            "5\n",
            "두 수 입력 : 3 4\n",
            "7\n",
            "두 수 입력 : 9 8\n",
            "17\n",
            "두 수 입력 : 5 2\n",
            "7\n"
          ]
        }
      ]
    },
    {
      "cell_type": "code",
      "metadata": {
        "colab": {
          "base_uri": "https://localhost:8080/"
        },
        "id": "ZGJTmwGCm7lK",
        "outputId": "322b39fc-c730-4a48-b723-913f51309c45"
      },
      "source": [
        "# 3. 합\n",
        "# n이 주어졌을 때, 1부터 n까지 합을 구하는 프로그램을 작성\n",
        "\n",
        "n = int(input('n : '))\n",
        "sum = 0\n",
        "for i in range(n) :\n",
        "  sum += i+1\n",
        "print('합 : {}'.format(sum))"
      ],
      "execution_count": 3,
      "outputs": [
        {
          "output_type": "stream",
          "name": "stdout",
          "text": [
            "n : 3\n",
            "합 : 6\n"
          ]
        }
      ]
    },
    {
      "cell_type": "code",
      "metadata": {
        "colab": {
          "base_uri": "https://localhost:8080/",
          "height": 90
        },
        "id": "VM3gzO9KoXwN",
        "outputId": "eb1bca32-09b1-4429-d52c-cb44f6cd8581"
      },
      "source": [
        "# 4. 빠른 A+B\n",
        "# Python을 사용하고 있다면, input 대신 sys.stdin.readline을 사용할 수 있다. \n",
        "# 단, 이때는 맨 끝의 개행문자까지 같이 입력받기 때문에 문자열을 저장하고 싶을 경우 .rstrip()을 추가로 해 주는 것이 좋다.\n",
        "# 또한 입력과 출력 스트림은 별개이므로, 테스트케이스를 전부 입력받아서 저장한 뒤 전부 출력할 필요는 없다. \n",
        "# 테스트케이스를 하나 받은 뒤 하나 출력해도 된다.\n",
        "'''\n",
        "rstrip을 하라는 건 문자열 자체를 변수에 저장하고 싶을 때 얘기지, 개행문자가 맨 끝에 들어와도 int 변환이나 split()을 그대로 할 수 있습니다.\n",
        "즉 int(sys.stdin.readline()), sys.stdin.readline().split() 이렇게 해도 아무 문제 없습니다. \n",
        "참고로 이름이 꽤 길기 때문에 저는 input = sys.stdin.readline을 맨 처음에 함으로써 쓰는 편입니다.\n",
        "'''\n",
        "# 첫 줄에 테스트케이스의 개수 T가 주어진다. T는 최대 1,000,000이다. \n",
        "# 다음 T줄에는 각각 두 정수 A와 B가 주어진다. \n",
        "# A와 B는 1 이상, 1,000 이하이다.\n",
        "# 각 테스트케이스마다 A+B를 한 줄에 하나씩 순서대로 출력\n",
        "\n",
        "# import sys\n",
        "# T = int(sys.stdin.readline())\n",
        "\n",
        "# for _ in range(T) :\n",
        "#   a, b = map(int, sys.stdin.readline().split())\n",
        "#   print(a + b)"
      ],
      "execution_count": 4,
      "outputs": [
        {
          "output_type": "execute_result",
          "data": {
            "application/vnd.google.colaboratory.intrinsic+json": {
              "type": "string"
            },
            "text/plain": [
              "'\\nrstrip을 하라는 건 문자열 자체를 변수에 저장하고 싶을 때 얘기지, 개행문자가 맨 끝에 들어와도 int 변환이나 split()을 그대로 할 수 있습니다.\\n즉 int(sys.stdin.readline()), sys.stdin.readline().split() 이렇게 해도 아무 문제 없습니다. \\n참고로 이름이 꽤 길기 때문에 저는 input = sys.stdin.readline을 맨 처음에 함으로써 쓰는 편입니다.\\n'"
            ]
          },
          "metadata": {},
          "execution_count": 4
        }
      ]
    },
    {
      "cell_type": "code",
      "metadata": {
        "id": "D7eGwpRspx-Q",
        "colab": {
          "base_uri": "https://localhost:8080/"
        },
        "outputId": "4afbf7e9-bee6-45c2-d532-38feb7cf3529"
      },
      "source": [
        "# 5. N 찍기\n",
        "# 자연수 N이 주어졌을 때, 1부터 N까지 한 줄에 하나씩 출력하는 프로그램\n",
        "\n",
        "N = int(input('자연수 : '))\n",
        "for i in range(N) :\n",
        "  print(i+1)"
      ],
      "execution_count": 5,
      "outputs": [
        {
          "output_type": "stream",
          "name": "stdout",
          "text": [
            "자연수 : 5\n",
            "1\n",
            "2\n",
            "3\n",
            "4\n",
            "5\n"
          ]
        }
      ]
    },
    {
      "cell_type": "code",
      "metadata": {
        "colab": {
          "base_uri": "https://localhost:8080/"
        },
        "id": "hY3PIVdorLwQ",
        "outputId": "97f40075-19ff-458b-f92a-9f9d7c516578"
      },
      "source": [
        "# 6. 기찍 N\n",
        "# 자연수 N이 주어졌을 때, N부터 1까지 한 줄에 하나씩 출력하는 프로그램\n",
        "\n",
        "N = int(input('자연수 : '))\n",
        "for i in range(N) :\n",
        "  print(N-i)"
      ],
      "execution_count": 6,
      "outputs": [
        {
          "output_type": "stream",
          "name": "stdout",
          "text": [
            "자연수 : 5\n",
            "5\n",
            "4\n",
            "3\n",
            "2\n",
            "1\n"
          ]
        }
      ]
    },
    {
      "cell_type": "code",
      "metadata": {
        "colab": {
          "base_uri": "https://localhost:8080/"
        },
        "id": "JANDcsGIrraF",
        "outputId": "b284207c-9ba7-4ebe-8e01-9dae6ce1dc4a"
      },
      "source": [
        "# 7. A+B-7\n",
        "# 두 정수 A와 B를 입력받은 다음, A+B를 출력하는 프로그램\n",
        "# 첫째 줄에 테스트 케이스의 개수 T가 주어진다.\n",
        "# 각 테스트 케이스는 한 줄로 이루어져 있으며, 각 줄에 A와 B가 주어진다. \n",
        "# 각 테스트 케이스마다 \"Case #x: \"를 출력한 다음, A+B를 출력한다. \n",
        "# 테스트 케이스 번호는 1부터 시작한다.\n",
        "\n",
        "T = int(input('횟수 : '))\n",
        "for i in range(T) :\n",
        "  a, b = map(int, input('두 정수 : ').split())\n",
        "  print('Case #{}: {}'.format(i+1, a+b))"
      ],
      "execution_count": 7,
      "outputs": [
        {
          "output_type": "stream",
          "name": "stdout",
          "text": [
            "횟수 : 5\n",
            "두 정수 : 1 1\n",
            "Case #1: 2\n",
            "두 정수 : 2 3\n",
            "Case #2: 5\n",
            "두 정수 : 3 4\n",
            "Case #3: 7\n",
            "두 정수 : 9 8\n",
            "Case #4: 17\n",
            "두 정수 : 5 2\n",
            "Case #5: 7\n"
          ]
        }
      ]
    },
    {
      "cell_type": "code",
      "metadata": {
        "colab": {
          "base_uri": "https://localhost:8080/"
        },
        "id": "nEjpYA4Ss4us",
        "outputId": "b1facf0c-df81-424b-dcdf-eae4cb32d15f"
      },
      "source": [
        "2# 8. A+B-8\n",
        "# 두 정수 A와 B를 입력받은 다음, A+B를 출력하는 프로그램\n",
        "# 첫째 줄에 테스트 케이스의 개수 T가 주어진다.\n",
        "# 각 테스트 케이스는 한 줄로 이루어져 있으며, 각 줄에 A와 B가 주어진다.\n",
        "# 각 테스트 케이스마다 \"Case #x: A + B = C\" 형식으로 출력한다. \n",
        "# x는 테스트 케이스 번호이고 1부터 시작하며, C는 A+B이다.\n",
        "\n",
        "T = int(input('횟수 : '))\n",
        "for i in range(T) :\n",
        "  a, b = map(int, input('두 정수 : ').split())\n",
        "  print('Case #{}: {} + {} = {}'.format(i+1, a, b, a+b))"
      ],
      "execution_count": 8,
      "outputs": [
        {
          "output_type": "stream",
          "name": "stdout",
          "text": [
            "횟수 : 5\n",
            "두 정수 : 1 1\n",
            "Case #1: 1 + 1 = 2\n",
            "두 정수 : 2 3\n",
            "Case #2: 2 + 3 = 5\n",
            "두 정수 : 3 4\n",
            "Case #3: 3 + 4 = 7\n",
            "두 정수 : 9 8\n",
            "Case #4: 9 + 8 = 17\n",
            "두 정수 : 5 2\n",
            "Case #5: 5 + 2 = 7\n"
          ]
        }
      ]
    },
    {
      "cell_type": "code",
      "metadata": {
        "colab": {
          "base_uri": "https://localhost:8080/"
        },
        "id": "3Xqw1Wxotawb",
        "outputId": "821a5734-e4d8-4000-a3fb-eb48588f299b"
      },
      "source": [
        "# 9. 별 찍기 - 1\n",
        "# 첫째 줄에는 별 1개, 둘째 줄에는 별 2개, N번째 줄에는 별 N개를 찍는 문제\n",
        "\n",
        "N = int(input('N : '))\n",
        "for i in range(N) :\n",
        "  print('*' * (i+1))"
      ],
      "execution_count": 9,
      "outputs": [
        {
          "output_type": "stream",
          "name": "stdout",
          "text": [
            "N : 5\n",
            "*\n",
            "**\n",
            "***\n",
            "****\n",
            "*****\n"
          ]
        }
      ]
    },
    {
      "cell_type": "code",
      "metadata": {
        "colab": {
          "base_uri": "https://localhost:8080/"
        },
        "id": "ZvyMDY22t7nj",
        "outputId": "6c290a6a-5fac-443b-c2f1-63eef7bc924e"
      },
      "source": [
        "# 10. 별 찍기 - 2\n",
        "# 첫째 줄에는 별 1개, 둘째 줄에는 별 2개, N번째 줄에는 별 N개를 찍는 문제\n",
        "# 하지만, 오른쪽을 기준으로 정렬한 별(예제 참고)을 출력하시오.\n",
        "\n",
        "N = int(input('N : '))\n",
        "for i in range(N) :\n",
        "  print(' ' * (N-i-1) + '*' * (i+1))"
      ],
      "execution_count": 10,
      "outputs": [
        {
          "output_type": "stream",
          "name": "stdout",
          "text": [
            "N : 5\n",
            "    *\n",
            "   **\n",
            "  ***\n",
            " ****\n",
            "*****\n"
          ]
        }
      ]
    },
    {
      "cell_type": "code",
      "metadata": {
        "id": "n--WoMaguaqb",
        "colab": {
          "base_uri": "https://localhost:8080/"
        },
        "outputId": "ee45b82f-a044-42fc-df2e-61edb35da66c"
      },
      "source": [
        "# 11. x보다 작은 수\n",
        "# 정수 N개로 이루어진 수열 A와 정수 X가 주어진다. \n",
        "# 이때, A에서 X보다 작은 수를 모두 출력하는 프로그램을 작성\n",
        "\n",
        "N, X = map(int, input('정수 N 과 정수 X: ').split())\n",
        "A = list(map(int, input('정수 리스트 : ').split()))\n",
        "\n",
        "print('정수 X보다 작은 수 출력 : ', end ='')\n",
        "for i in A :\n",
        "  if i < X :\n",
        "    print(i, end=' ')"
      ],
      "execution_count": 11,
      "outputs": [
        {
          "output_type": "stream",
          "name": "stdout",
          "text": [
            "정수 N 과 정수 X: 10 5\n",
            "정수 리스트 : 1 10 4 9 2 3 8 5 7 6\n",
            "정수 X보다 작은 수 출력 : 1 4 2 3 "
          ]
        }
      ]
    },
    {
      "cell_type": "code",
      "metadata": {
        "id": "C4bOmdyFV2mO"
      },
      "source": [
        ""
      ],
      "execution_count": 11,
      "outputs": []
    }
  ]
}