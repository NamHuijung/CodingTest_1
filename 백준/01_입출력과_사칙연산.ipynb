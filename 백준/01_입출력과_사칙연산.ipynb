{
  "nbformat": 4,
  "nbformat_minor": 5,
  "metadata": {
    "kernelspec": {
      "display_name": "Python 3",
      "language": "python",
      "name": "python3"
    },
    "language_info": {
      "codemirror_mode": {
        "name": "ipython",
        "version": 3
      },
      "file_extension": ".py",
      "mimetype": "text/x-python",
      "name": "python",
      "nbconvert_exporter": "python",
      "pygments_lexer": "ipython3",
      "version": "3.6.8"
    },
    "colab": {
      "name": "1_입출력과 사칙연산_백준.ipynb",
      "provenance": [],
      "collapsed_sections": []
    }
  },
  "cells": [
    {
      "cell_type": "code",
      "metadata": {
        "colab": {
          "base_uri": "https://localhost:8080/"
        },
        "id": "e862b91e",
        "outputId": "a17c804d-025d-454c-9df0-785e056e936e"
      },
      "source": [
        "# 1. Hello World\n",
        "\n",
        "print('Hello World')"
      ],
      "id": "e862b91e",
      "execution_count": 1,
      "outputs": [
        {
          "output_type": "stream",
          "name": "stdout",
          "text": [
            "Hello World\n"
          ]
        }
      ]
    },
    {
      "cell_type": "code",
      "metadata": {
        "colab": {
          "base_uri": "https://localhost:8080/"
        },
        "id": "39177a51",
        "outputId": "47ae89e6-4050-471b-9688-e346fe3e9375"
      },
      "source": [
        "# 2. We love kriii\n",
        "# 두 줄에 걸쳐 \"강한친구 대한육군\"을 한 줄에 한 번씩 출력한다.\n",
        "\n",
        "print('강한친구 대한육군')\n",
        "print('강한친구 대한육군')"
      ],
      "id": "39177a51",
      "execution_count": 2,
      "outputs": [
        {
          "output_type": "stream",
          "name": "stdout",
          "text": [
            "강한친구 대한육군\n",
            "강한친구 대한육군\n"
          ]
        }
      ]
    },
    {
      "cell_type": "code",
      "metadata": {
        "colab": {
          "base_uri": "https://localhost:8080/"
        },
        "id": "d7712ab8",
        "outputId": "4ae87138-db1f-4745-a616-a9f23785ed70"
      },
      "source": [
        "# 3. 고양이\n",
        "# 고양이를 출력한다.\n",
        "\n",
        "print('\\\\    /\\\\')\n",
        "print(\") )  ( '\\) \")\n",
        "print('(  /  )')\n",
        "print(' \\\\(__)|) ')"
      ],
      "id": "d7712ab8",
      "execution_count": 3,
      "outputs": [
        {
          "output_type": "stream",
          "name": "stdout",
          "text": [
            "\\    /\\\n",
            ") )  ( '\\) \n",
            "(  /  )\n",
            " \\(__)|) \n"
          ]
        }
      ]
    },
    {
      "cell_type": "code",
      "metadata": {
        "colab": {
          "base_uri": "https://localhost:8080/"
        },
        "id": "f751cc86",
        "outputId": "3098b4e1-b5f3-407f-ec0b-4aa403bbb91d"
      },
      "source": [
        "# 4. 강아지\n",
        "# 개를 출력한다.\n",
        "\n",
        "print(\"|\\_/|\")\n",
        "print(\"|q p|   /}\")\n",
        "print('( 0 )\"\"\"\\\\')\n",
        "print('|\"^\"`    |')\n",
        "print('||_/=\\\\\\\\__|')"
      ],
      "id": "f751cc86",
      "execution_count": 4,
      "outputs": [
        {
          "output_type": "stream",
          "name": "stdout",
          "text": [
            "|\\_/|\n",
            "|q p|   /}\n",
            "( 0 )\"\"\"\\\n",
            "|\"^\"`    |\n",
            "||_/=\\\\__|\n"
          ]
        }
      ]
    },
    {
      "cell_type": "code",
      "metadata": {
        "colab": {
          "base_uri": "https://localhost:8080/"
        },
        "id": "16cf75c7",
        "outputId": "92c8a946-0c26-40b8-bcda-2ed53f97331a"
      },
      "source": [
        "# 5. A+B\n",
        "# 두 정수 A와 B를 입력받은 다음, A+B를 출력하는 프로그램을 작성\n",
        "\n",
        "a, b = input('입력 : ').split()\n",
        "print(int(a)+int(b))\n",
        "\n",
        "# a, b = map(int, input().split())"
      ],
      "id": "16cf75c7",
      "execution_count": 5,
      "outputs": [
        {
          "output_type": "stream",
          "name": "stdout",
          "text": [
            "입력 : 1 2\n",
            "3\n"
          ]
        }
      ]
    },
    {
      "cell_type": "code",
      "metadata": {
        "colab": {
          "base_uri": "https://localhost:8080/"
        },
        "id": "be0e01ac",
        "outputId": "8c20f611-ecab-4f16-beff-b3570fd778f0"
      },
      "source": [
        "# 6. A-B\n",
        "# 두 정수 A와 B를 입력받은 다음, A-B를 출력하는 프로그램을 작성\n",
        "\n",
        "a, b = map(int, input('입력 : ').split())\n",
        "print(a-b)"
      ],
      "id": "be0e01ac",
      "execution_count": 6,
      "outputs": [
        {
          "output_type": "stream",
          "name": "stdout",
          "text": [
            "입력 : 3 2\n",
            "1\n"
          ]
        }
      ]
    },
    {
      "cell_type": "code",
      "metadata": {
        "colab": {
          "base_uri": "https://localhost:8080/"
        },
        "id": "1a0746a5",
        "outputId": "3ea61044-6661-408b-9c5d-1b513287f1eb"
      },
      "source": [
        "# 7. AXB\n",
        "# 두 정수 A와 B를 입력받은 다음, A×B를 출력하는 프로그램을 작성\n",
        "\n",
        "a, b = map(int, input('입력 : ').split())\n",
        "print(a*b)"
      ],
      "id": "1a0746a5",
      "execution_count": 7,
      "outputs": [
        {
          "output_type": "stream",
          "name": "stdout",
          "text": [
            "입력 : 1 2\n",
            "2\n"
          ]
        }
      ]
    },
    {
      "cell_type": "code",
      "metadata": {
        "colab": {
          "base_uri": "https://localhost:8080/"
        },
        "id": "7890ab14",
        "outputId": "8a6b0a94-da08-4ecd-c630-a65d921c512b"
      },
      "source": [
        "# 8. A/B\n",
        "# 두 정수 A와 B를 입력받은 다음, A/B를 출력하는 프로그램을 작성\n",
        "\n",
        "a, b = map(int, input('입력 : ').split())\n",
        "print(a/b)"
      ],
      "id": "7890ab14",
      "execution_count": 8,
      "outputs": [
        {
          "output_type": "stream",
          "name": "stdout",
          "text": [
            "입력 : 1 3\n",
            "0.3333333333333333\n"
          ]
        }
      ]
    },
    {
      "cell_type": "code",
      "metadata": {
        "colab": {
          "base_uri": "https://localhost:8080/"
        },
        "id": "e0daccc2",
        "outputId": "84773abc-6930-4018-97d7-61c598860d09"
      },
      "source": [
        "# 9. 사칙연산\n",
        "# 두 자연수 A와 B가 주어진다. \n",
        "# 이때, A+B, A-B, A*B, A/B(몫), A%B(나머지)를 출력하는 프로그램을 작성\n",
        "\n",
        "a, b = map(int, input('입력 : ').split())\n",
        "print(a+b)\n",
        "print(a-b)\n",
        "print(a*b)\n",
        "print(a//b)\n",
        "print(a%b)"
      ],
      "id": "e0daccc2",
      "execution_count": 9,
      "outputs": [
        {
          "output_type": "stream",
          "name": "stdout",
          "text": [
            "입력 : 7 3\n",
            "10\n",
            "4\n",
            "21\n",
            "2\n",
            "1\n"
          ]
        }
      ]
    },
    {
      "cell_type": "code",
      "metadata": {
        "colab": {
          "base_uri": "https://localhost:8080/"
        },
        "id": "54f7e6b7",
        "outputId": "86b6788e-3c14-47c1-d271-f0fa09ac1745"
      },
      "source": [
        "# 10. 나머지\n",
        "# (A+B)%C는 ((A%C) + (B%C))%C 와 같을까?\n",
        "# (A×B)%C는 ((A%C) × (B%C))%C 와 같을까?\n",
        "# 세 수 A, B, C가 주어졌을 때, 위의 네 가지 값을 구하는 프로그램을 작성\n",
        "\n",
        "a, b, c = map(int, input('입력 : ').split())\n",
        "print((a+b)%c)\n",
        "print(((a%c)+(b%c))%c)\n",
        "print((a*b)%c)\n",
        "print(((a%c)*(b%c))%c)"
      ],
      "id": "54f7e6b7",
      "execution_count": 10,
      "outputs": [
        {
          "output_type": "stream",
          "name": "stdout",
          "text": [
            "입력 : 5 8 4\n",
            "1\n",
            "1\n",
            "0\n",
            "0\n"
          ]
        }
      ]
    },
    {
      "cell_type": "code",
      "metadata": {
        "colab": {
          "base_uri": "https://localhost:8080/"
        },
        "id": "6c1ea998",
        "outputId": "acf41503-daea-4a59-a6bb-afd77488030a"
      },
      "source": [
        "# 11. 곱셈\n",
        "# (세 자리 수) × (세 자리 수) 과정을 통한 계산 구하는 프로그램 작성\n",
        "\n",
        "num_1 = int(input('첫번째 숫자 : '))\n",
        "num_2 = input('두번째 숫자 : ')\n",
        "cal_1 = num_1 * int(num_2[-1])\n",
        "cal_2 = num_1 * int(num_2[1])\n",
        "cal_3 = num_1 * int(num_2[0])\n",
        "print(cal_1)\n",
        "print(cal_2)\n",
        "print(cal_3)\n",
        "print(cal_1 + cal_2*10 + cal_3*100)"
      ],
      "id": "6c1ea998",
      "execution_count": 11,
      "outputs": [
        {
          "output_type": "stream",
          "name": "stdout",
          "text": [
            "첫번째 숫자 : 472\n",
            "두번째 숫자 : 385\n",
            "2360\n",
            "3776\n",
            "1416\n",
            "181720\n"
          ]
        }
      ]
    },
    {
      "cell_type": "code",
      "metadata": {
        "id": "bce4ab51"
      },
      "source": [
        ""
      ],
      "id": "bce4ab51",
      "execution_count": 11,
      "outputs": []
    }
  ]
}
