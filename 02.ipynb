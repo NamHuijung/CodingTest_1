{
 "cells": [
  {
   "cell_type": "markdown",
   "id": "f9d80519",
   "metadata": {},
   "source": [
    "**문제 11 ~ 문제 20**"
   ]
  },
  {
   "cell_type": "code",
   "execution_count": 1,
   "id": "82ab1869",
   "metadata": {},
   "outputs": [
    {
     "name": "stdout",
     "output_type": "stream",
     "text": [
      "5050\n"
     ]
    }
   ],
   "source": [
    "# 문제 11 : for를 이용한 기본 활용\n",
    "# 1부터 100까지 모두 더하는 code\n",
    "\n",
    "s = 0\n",
    "for i in range(1, 101) :\n",
    "    s += i\n",
    "print(s)"
   ]
  },
  {
   "cell_type": "code",
   "execution_count": 2,
   "id": "e5ee3750",
   "metadata": {},
   "outputs": [
    {
     "name": "stdout",
     "output_type": "stream",
     "text": [
      "545 210 10\n",
      "파이어볼\n"
     ]
    }
   ],
   "source": [
    "# 문제 12 : 게임 캐릭터 클래스 만들기\n",
    "# 클래스를 작성하여 게임 캐릭터의 능력치와 '파이어볼'이 출력\n",
    "\n",
    "# ★★★\n",
    "\n",
    "class Wizard:\n",
    "    def __init__(self, health, mana, armor):\n",
    "        self.health = health\n",
    "        self.mana = mana\n",
    "        self.armor = armor\n",
    " \n",
    "    def attack(self):\n",
    "        print('파이어볼')\n",
    "        \n",
    "x = Wizard(health = 545, mana = 210, armor = 10)\n",
    "print(x.health, x.mana, x.armor)\n",
    "x.attack()"
   ]
  },
  {
   "cell_type": "code",
   "execution_count": 3,
   "id": "259084f0",
   "metadata": {
    "scrolled": true
   },
   "outputs": [
    {
     "name": "stdout",
     "output_type": "stream",
     "text": [
      "알고 싶은 행성 순서 : 3\n",
      "지구\n"
     ]
    }
   ],
   "source": [
    "# 문제 13 : 몇 번째 행성인가요?\n",
    "# 우리 태양계를 이루고 있는 행성은 \n",
    "# 수성, 금성, 지구, 화성, 목성, 토성, 천왕성, 해왕성으로 총 8개이다.\n",
    "# 입력으로 행성의 순서를 나타내는 숫자 n을 입력\n",
    "# 출력으로 그 순서에 해당하는 행성의 이름을 출력\n",
    "\n",
    "planets = ['수성', '금성', '지구', '화성', '목성', '토성', '천왕성', '해왕성']\n",
    "\n",
    "n = int(input('알고 싶은 행성 순서 : '))\n",
    "print('{}'.format(planets[n-1]))"
   ]
  },
  {
   "cell_type": "code",
   "execution_count": 4,
   "id": "6a35ff98",
   "metadata": {},
   "outputs": [
    {
     "name": "stdout",
     "output_type": "stream",
     "text": [
      "랜덤 숫자 입력 : 5\n",
      "5\n"
     ]
    }
   ],
   "source": [
    "# 문제 14 : 3의 배수인가요?\n",
    "# 입력으로 랜덤한 숫자 n\n",
    "# 만약 그 수가 3의 배수라면 '짝'이라는 글자를, \n",
    "# 3의 배수가 아니라면 n을 그대로 출력\n",
    "\n",
    "n = int(input('랜덤 숫자 입력 : '))\n",
    "print(\"짝\" if (n%3==0) else \"{}\".format(n))\n",
    "\n",
    "# (참일 때 수행할 문장) if (조건식) else (거짓일 때 수행할 문장)"
   ]
  },
  {
   "cell_type": "code",
   "execution_count": 5,
   "id": "1547bd10",
   "metadata": {},
   "outputs": [
    {
     "name": "stdout",
     "output_type": "stream",
     "text": [
      "6\n",
      "짝\n"
     ]
    }
   ],
   "source": [
    "# 문제 14 - 다른 방법\n",
    "\n",
    "n = int(input())\n",
    "\n",
    "if n % 3 == 0:\n",
    "    print('짝')\n",
    "else:\n",
    "    print(n)"
   ]
  },
  {
   "cell_type": "code",
   "execution_count": 6,
   "id": "576c253c",
   "metadata": {},
   "outputs": [
    {
     "name": "stdout",
     "output_type": "stream",
     "text": [
      "이름 입력 : 김다정\n",
      "안녕하세요. 저는 김다정입니다.\n"
     ]
    }
   ],
   "source": [
    "# 문제 15 : 자기소개\n",
    "# 만약 입력으로 '김다정'이라는 이름이 주어지면\n",
    "# 안녕하세요. 저는 김다정입니다. 라고 출력\n",
    "\n",
    "name = input('이름 입력 : ')\n",
    "print('안녕하세요. 저는 {}입니다.'.format(name))"
   ]
  },
  {
   "cell_type": "code",
   "execution_count": 7,
   "id": "42ee7ff8",
   "metadata": {},
   "outputs": [
    {
     "name": "stdout",
     "output_type": "stream",
     "text": [
      "문장 입력 : 거꾸로\n",
      "로꾸거\n"
     ]
    }
   ],
   "source": [
    "# 문제 16 : 로꾸거\n",
    "# 문장이 입력되면 거꾸로 출력하는 프로그램\n",
    "\n",
    "s = input('문장 입력 : ')\n",
    "print('{}'.format(s[::-1]))"
   ]
  },
  {
   "cell_type": "code",
   "execution_count": 8,
   "id": "19c15003",
   "metadata": {},
   "outputs": [
    {
     "name": "stdout",
     "output_type": "stream",
     "text": [
      "키를 입력 : 160\n",
      "Yes\n"
     ]
    }
   ],
   "source": [
    "# 문제 17 : 놀이기구 키 제한\n",
    "# 놀이기구는 키가 150이상만 탈 수 있다.\n",
    "# 입력으로 키가 주어지면 키가 150이 이상이면 Yes, 틀리면 No 출력\n",
    "\n",
    "height = int(input('키를 입력 : '))\n",
    "print(\"Yes\" if (height>=150) else \"No\")"
   ]
  },
  {
   "cell_type": "code",
   "execution_count": 9,
   "id": "f053fc15",
   "metadata": {},
   "outputs": [
    {
     "name": "stdout",
     "output_type": "stream",
     "text": [
      "140\n",
      "NO\n"
     ]
    }
   ],
   "source": [
    "# 문제 17 - 다른 방법\n",
    "n = int(input())\n",
    "if n < 150:\n",
    "    print(\"NO\")\n",
    "elif 150 <= n:\n",
    "    print(\"YES\")"
   ]
  },
  {
   "cell_type": "code",
   "execution_count": 10,
   "id": "abce8f81",
   "metadata": {},
   "outputs": [
    {
     "name": "stdout",
     "output_type": "stream",
     "text": [
      "10 20 30\n",
      "전체평균 : 20\n"
     ]
    }
   ],
   "source": [
    "# 문제 18 : 평균 점수\n",
    "# 공백으로 구분하여 세 과목의 점수가 주어지면 전체 평균 점수를 구하는 프로그램 작성\n",
    "# 단, 소숫점 자리는 모두 버린다.\n",
    "\n",
    "# ★★\n",
    "score = list(map(int, input().split()))\n",
    "print('전체평균 : %d' % (sum(score)/3))"
   ]
  },
  {
   "cell_type": "code",
   "execution_count": 11,
   "id": "41140ace",
   "metadata": {},
   "outputs": [
    {
     "name": "stdout",
     "output_type": "stream",
     "text": [
      "5 2\n",
      "5의 2승 : 25\n"
     ]
    }
   ],
   "source": [
    "# 문제 19 : 제곱을 구하자\n",
    "# 공백으로 구분하여 두 숫자 a와 b가 주어지면 a의 b승을 구하는 프로그램\n",
    "\n",
    "num = list(map(int, input().split()))\n",
    "print('{}의 {}승 : {}'.format(num[0], num[1], num[0]**num[1]))"
   ]
  },
  {
   "cell_type": "code",
   "execution_count": 12,
   "id": "31537147",
   "metadata": {},
   "outputs": [
    {
     "name": "stdout",
     "output_type": "stream",
     "text": [
      "20 6\n",
      "3 2\n"
     ]
    }
   ],
   "source": [
    "# 문제 20 : 몫과 나머지\n",
    "# 공백으로 구분하여 두 숫자 입력\n",
    "# 첫번째 숫자로 두번째 숫자를 나누었을 때 그 몫과 나머지를 공백으로 구분하여 출력\n",
    "\n",
    "num = list(map(int, input().split()))\n",
    "print(num[0] // num[1], num[0] % num[1])"
   ]
  },
  {
   "cell_type": "code",
   "execution_count": 13,
   "id": "ed95c712",
   "metadata": {},
   "outputs": [
    {
     "data": {
      "text/plain": [
       "\"\\n1)  x = {1, 2, 3, 5, 6, 7}\\n2)  x = {}\\n3)  x = set('python')\\n4)  x = set(range(5))\\n5)  x = set()\\n\""
      ]
     },
     "execution_count": 13,
     "metadata": {},
     "output_type": "execute_result"
    }
   ],
   "source": [
    "# 문제 21 : set은 어떻게 만드나요?\n",
    "# 다음 중 set을 만드는 방법이 아닌 것?\n",
    "'''\n",
    "1)  x = {1, 2, 3, 5, 6, 7}\n",
    "2)  x = {}\n",
    "3)  x = set('python')\n",
    "4)  x = set(range(5))\n",
    "5)  x = set()\n",
    "'''\n",
    "# 답) 2번\n",
    "# x = {} # 빈 딕셔너리 생성"
   ]
  },
  {
   "cell_type": "code",
   "execution_count": 14,
   "id": "2373b392",
   "metadata": {},
   "outputs": [
    {
     "data": {
      "text/plain": [
       "'\\n1)  i / 6 == 0\\n2)  i % 6 == 0\\n3)  i & 6 == 0\\n4)  i | 6 == 0\\n5)  i // 6 == 0\\n'"
      ]
     },
     "execution_count": 14,
     "metadata": {},
     "output_type": "execute_result"
    }
   ],
   "source": [
    "# 문제 22 : 배수인지 확인하기\n",
    "# 다음 중 변수 i가 6의 배수인지 확인하는 방법으로 올바른 것은?\n",
    "'''\n",
    "1)  i / 6 == 0\n",
    "2)  i % 6 == 0\n",
    "3)  i & 6 == 0\n",
    "4)  i | 6 == 0\n",
    "5)  i // 6 == 0\n",
    "'''\n",
    "# 답) 2번"
   ]
  },
  {
   "cell_type": "code",
   "execution_count": 15,
   "id": "7f483717",
   "metadata": {},
   "outputs": [],
   "source": [
    "# 문제 23 : O,X 문제\n",
    "\n",
    "# print(10/2)의 출력 결과는 5이다.\n",
    "\n",
    "# 답) X\n",
    "# print(10/2) # 5.0"
   ]
  },
  {
   "cell_type": "code",
   "execution_count": 16,
   "id": "029b0b32",
   "metadata": {},
   "outputs": [
    {
     "name": "stdout",
     "output_type": "stream",
     "text": [
      "이름 입력 : Apple\n",
      "APPLE\n"
     ]
    }
   ],
   "source": [
    "# 문제 24 : 대문자로 바꿔주세요\n",
    "# 이름이 입력되면 전부 대문자로 출력되는 프로그램\n",
    "\n",
    "name = input('이름 입력 : ')\n",
    "print('{}'.format(name.upper()))"
   ]
  },
  {
   "cell_type": "code",
   "execution_count": 17,
   "id": "0dcef02c",
   "metadata": {},
   "outputs": [
    {
     "name": "stdout",
     "output_type": "stream",
     "text": [
      "반지름의 길이 : 5\n",
      "원의 넓이 : 78.5\n"
     ]
    }
   ],
   "source": [
    "# 문제 25 : 원의 넓이를 구하세요.\n",
    "# 원의 넓이는 반지름의 길이 X 반지름의 길이 X 3.14\n",
    "# 입력을 반지름의 길이로 정수 n이 주어지면 원의 넓이를 반환하는 함수\n",
    "\n",
    "n = int(input('반지름의 길이 : '))\n",
    "def circle(r) :\n",
    "    return r*r*3.14\n",
    "\n",
    "print('원의 넓이 : {}'.format(circle(n)))\n",
    "\n",
    "\n",
    "# def solution(n):\n",
    "#     return n * n * 3.14\n",
    "\n",
    "# print(solution(int(input()))"
   ]
  },
  {
   "cell_type": "code",
   "execution_count": 18,
   "id": "db99cdfd",
   "metadata": {},
   "outputs": [
    {
     "name": "stdout",
     "output_type": "stream",
     "text": [
      "행성 한글 이름 : 지구\n",
      "행성 영어 이름 : Earth\n"
     ]
    }
   ],
   "source": [
    "# 문제 26 : 행성 문제 2\n",
    "# 우리 태양계를 이루는 행성은\n",
    "# 수성, 금성, 지구, 화성, 목성, 토성, 천왕성, 해왕성\n",
    "# 행성들의 영어 이름은\n",
    "# Mercury, Venus, Earth, Mars, Jupiter, Saturn, Uranus, Neptune\n",
    "# 행성의 한글 이름을 입력하면 영어 이름을 반환하는 프로그램\n",
    "\n",
    "planet_dict = {\n",
    "    '수성' : 'Mercury',\n",
    "    '금성' : 'Venus',\n",
    "    '지구' : 'Earth',\n",
    "    '화성' : 'Mars',\n",
    "    '목성' : 'Jupiter',\n",
    "    '토성' : 'Saturn',\n",
    "    '천왕성' : 'Uranus',\n",
    "    '해왕성' : 'Neptune'\n",
    "}\n",
    "planet_kor = input('행성 한글 이름 : ')\n",
    "print('행성 영어 이름 : {}'.format(planet_dict[planet_kor]))"
   ]
  },
  {
   "cell_type": "code",
   "execution_count": 19,
   "id": "f2a57c0b",
   "metadata": {},
   "outputs": [
    {
     "name": "stdout",
     "output_type": "stream",
     "text": [
      "수아 수진\n",
      "50 80\n",
      "{'수아': 50, '수진': 80}\n"
     ]
    }
   ],
   "source": [
    "# 문제 27 : 딕셔너리 만들기\n",
    "# 첫 줄에는 학생의 이름이 공백으로 구분되어 입력되고,\n",
    "# 두번째 줄에는 그 학생의 수학 점수가 공백으로 구분되어 주어진다.\n",
    "# 두 개를 합쳐 학생의 이름이 key이고, value가 수학 점수인 딕셔너리를 출력\n",
    "\n",
    "name = input().split()\n",
    "score = list(map(int, input().split()))\n",
    "\n",
    "dict_1 = {\n",
    "    name[0] : score[0], \n",
    "    name[1] : score[1]\n",
    "}\n",
    "print(dict_1)"
   ]
  },
  {
   "cell_type": "code",
   "execution_count": 20,
   "id": "93d2cc0a",
   "metadata": {},
   "outputs": [
    {
     "name": "stdout",
     "output_type": "stream",
     "text": [
      "수아 수진\n",
      "50 80\n",
      "{'수아': 50, '수진': 80}\n"
     ]
    }
   ],
   "source": [
    "# 문제 27 - 다른 방법\n",
    "keys = input().split()\n",
    "values = map(int, input().split())\n",
    "\n",
    "result = dict(zip(keys, values))\n",
    "print(result)"
   ]
  },
  {
   "cell_type": "code",
   "execution_count": 21,
   "id": "1ccd0f41",
   "metadata": {},
   "outputs": [
    {
     "name": "stdout",
     "output_type": "stream",
     "text": [
      "문자열 : Python\n",
      "Py\n",
      "yt\n",
      "th\n",
      "ho\n",
      "on\n"
     ]
    }
   ],
   "source": [
    "# 문제 28 : 2-gram\n",
    "# 2-gram이란 문자열에서 2개의 연속된 요소를 출력하는 방법이다.\n",
    "# 입력으로 문자열이 주어지면 2-gram으로 출력하는 프로그램\n",
    "\n",
    "s = input('문자열 : ')\n",
    "\n",
    "for i in range(len(s)-1) :\n",
    "    print(s[i]+s[i+1]) # print(data[i], data[i+1], sep = '')"
   ]
  },
  {
   "cell_type": "code",
   "execution_count": 22,
   "id": "a79ad14c",
   "metadata": {
    "scrolled": true
   },
   "outputs": [
    {
     "name": "stdout",
     "output_type": "stream",
     "text": [
      "A\n",
      "YES\n"
     ]
    }
   ],
   "source": [
    "# 문제 29 : 대문자만 지나가세요\n",
    "# 알파벳 하나만을 입력하고 그 알파벳이 대문자이면 YES를 아니면 NO를 출력하는 프로그램\n",
    "\n",
    "s = input()\n",
    "print(\"YES\" if 'A'<=s<='Z' else \"NO\")"
   ]
  },
  {
   "cell_type": "code",
   "execution_count": 23,
   "id": "359b5c2d",
   "metadata": {},
   "outputs": [
    {
     "name": "stdout",
     "output_type": "stream",
     "text": [
      "b\n",
      "NO\n"
     ]
    }
   ],
   "source": [
    "# 문제 29 - 다른 방법\n",
    "data = input()\n",
    "\n",
    "if data.isupper():\n",
    "    print(\"YES\")\n",
    "else:\n",
    "    print(\"NO\")"
   ]
  },
  {
   "cell_type": "code",
   "execution_count": 24,
   "id": "5938e162",
   "metadata": {},
   "outputs": [
    {
     "name": "stdout",
     "output_type": "stream",
     "text": [
      "APple\n",
      "A\n",
      "P\n"
     ]
    }
   ],
   "source": [
    "# 문제 29 +\n",
    "# 알파벳 여러개를 입력하고 여러개 입력한 것 중 대문자만 출력해주는 프로그램\n",
    "\n",
    "s = input()\n",
    "\n",
    "for i in range(len(s)) :\n",
    "    if s[i].isupper() :\n",
    "        print(s[i])"
   ]
  },
  {
   "cell_type": "code",
   "execution_count": 25,
   "id": "66038288",
   "metadata": {},
   "outputs": [
    {
     "name": "stdout",
     "output_type": "stream",
     "text": [
      "문자열 입력 : pineapple is yummy\n",
      "찾을 문자 : apple\n",
      "4\n"
     ]
    }
   ],
   "source": [
    "# 문제 30 : 문자열 속 문자 찾기\n",
    "# 입력으로 첫 줄에 문자열이 주어지고\n",
    "# 둘째줄에 찾을 문자가 주어지면\n",
    "# 그 문자가 시작하는 index를 반환하는 프로그램\n",
    "\n",
    "s = input('문자열 입력 : ')\n",
    "f = input('찾을 문자 : ')\n",
    "\n",
    "print(s.find(f))"
   ]
  },
  {
   "cell_type": "code",
   "execution_count": null,
   "id": "5585bf20",
   "metadata": {},
   "outputs": [],
   "source": []
  }
 ],
 "metadata": {
  "kernelspec": {
   "display_name": "Python 3",
   "language": "python",
   "name": "python3"
  },
  "language_info": {
   "codemirror_mode": {
    "name": "ipython",
    "version": 3
   },
   "file_extension": ".py",
   "mimetype": "text/x-python",
   "name": "python",
   "nbconvert_exporter": "python",
   "pygments_lexer": "ipython3",
   "version": "3.6.8"
  }
 },
 "nbformat": 4,
 "nbformat_minor": 5
}
