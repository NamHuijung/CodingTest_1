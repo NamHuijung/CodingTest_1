{
  "nbformat": 4,
  "nbformat_minor": 0,
  "metadata": {
    "colab": {
      "name": "04_python 100제_51-70.ipynb",
      "provenance": [],
      "collapsed_sections": []
    },
    "kernelspec": {
      "name": "python3",
      "display_name": "Python 3"
    },
    "language_info": {
      "name": "python"
    }
  },
  "cells": [
    {
      "cell_type": "code",
      "metadata": {
        "id": "Jzk_gwSOPLOB",
        "colab": {
          "base_uri": "https://localhost:8080/"
        },
        "outputId": "f68d8af5-62b5-4f73-bf86-b4f392e22d92"
      },
      "source": [
        "# 문제 51 : merge sort를 만들어 보자\n",
        "# 병합정렬(merge sort)\n",
        "# 1. 리스트의 길이가 0 또는 1이면 이미 정렬된 것으로 본다. 그렇지 않은 경우에는\n",
        "# 2. 정렬되지 않은 리스트를 절반으로 잘라 비슷한 크기의 두 부분 리스트로 나눈다.\n",
        "# 3. 각 부분 리스트를 재귀적으로 합병 정렬을 이용해 정렬한다.\n",
        "# 4. 두 부분 리스트를 다시 하나의 정렬된 리스트로 합병한다.\n",
        "\n",
        "#병합 정렬\n",
        "def 병합정렬(입력리스트):\n",
        "    입력리스트길이 = len(입력리스트)\n",
        "    if 입력리스트길이 <= 1:\n",
        "        return 입력리스트\n",
        "    중간값 = 입력리스트길이 // 2\n",
        "    그룹_하나 = 병합정렬(입력리스트[:중간값])\n",
        "    그룹_둘 = 병합정렬(입력리스트[중간값:])\n",
        "    결과값 = []\n",
        "\n",
        "    while (그룹_하나) and (그룹_둘) :\n",
        "        if (그룹_하나[0] < 그룹_둘[0]):\n",
        "            결과값.append(그룹_하나.pop(0))\n",
        "        else:\n",
        "            결과값.append(그룹_둘.pop(0))\n",
        "\n",
        "    while 그룹_하나:\n",
        "        결과값.append(그룹_하나.pop(0))\n",
        "    while 그룹_둘:\n",
        "        결과값.append(그룹_둘.pop(0))\n",
        "    return 결과값\n",
        "\n",
        "주어진리스트 = [180, 145, 165, 45, 170, 175, 173, 171]\n",
        "#빈칸을 채워주세요\n",
        "\n",
        "print(병합정렬(주어진리스트))"
      ],
      "execution_count": 1,
      "outputs": [
        {
          "output_type": "stream",
          "name": "stdout",
          "text": [
            "[45, 145, 165, 170, 171, 173, 175, 180]\n"
          ]
        }
      ]
    },
    {
      "cell_type": "code",
      "metadata": {
        "id": "mmQGtzAnPqhY",
        "colab": {
          "base_uri": "https://localhost:8080/"
        },
        "outputId": "2e1d05f7-1ff3-4007-99bf-ed3c1fb53016"
      },
      "source": [
        "# 문제 52 : quick sort\n",
        "\n",
        "def 퀵정렬(입력리스트):\n",
        "    입력리스트의길이 = len(입력리스트)\n",
        "    if 입력리스트의길이 <= 1:\n",
        "        return 입력리스트\n",
        "    기준값 = 입력리스트.pop(입력리스트의길이//2)\n",
        "    그룹_하나 = []\n",
        "    그룹_둘 = []\n",
        "    \n",
        "    for i in range(입력리스트의길이-1):\n",
        "        if 입력리스트[i] < 기준값:\n",
        "            그룹_하나.append(입력리스트[i])\n",
        "        else:\n",
        "            그룹_둘.append(입력리스트[i])\n",
        "    return 퀵정렬(그룹_하나) + [기준값] + 퀵정렬(그룹_둘)\n",
        "\n",
        "주어진리스트 = input().split(' ')\n",
        "주어진리스트 = [int(i) for i in 주어진리스트]\n",
        "\n",
        "print(퀵정렬(주어진리스트))"
      ],
      "execution_count": 2,
      "outputs": [
        {
          "output_type": "stream",
          "name": "stdout",
          "text": [
            "180 145 165 45 170 175 173 171\n",
            "[45, 145, 165, 170, 171, 173, 175, 180]\n"
          ]
        }
      ]
    },
    {
      "cell_type": "code",
      "metadata": {
        "colab": {
          "base_uri": "https://localhost:8080/"
        },
        "id": "WW2Et9ROPs8r",
        "outputId": "71c1d0e4-b6fd-42ca-d442-6475e20aa74e"
      },
      "source": [
        "# 문제 53 : 괄호 문자열\n",
        "# 괄호 문자열이란 괄호 기호인 '{', '}', '[', ']', '(', ')' 와 같은 것을 말한다. \n",
        "# 그 중 괄호의 모양이 바르게 구성 된 문자열을 바른 문자열, 그렇지 않은 문자열을 바르지 않은 문자열이라 부르도록 하자.\n",
        "# 입력으로 주어진 괄호 문자열이 바른 문자열인지 바르지 않은 문자열인지 \"YES\"와 \"NO\"로 구분된 문자열을 출력\n",
        "\n",
        "s = input('문자열 : ')\n",
        "\n",
        "def sol(s) :\n",
        "  check = []\n",
        "  for i in s :\n",
        "    if (i == '(') :\n",
        "      check.append(i)\n",
        "    elif (i == ')') :\n",
        "      if len(check) == 0 :\n",
        "        return False\n",
        "      else :\n",
        "        check.pop()\n",
        "  if len(check) == 0 :\n",
        "      return True\n",
        "  else :\n",
        "      return False\n",
        "\n",
        "print(\"Yes\" if sol(s) else \"NO\")"
      ],
      "execution_count": 3,
      "outputs": [
        {
          "output_type": "stream",
          "name": "stdout",
          "text": [
            "문자열 : ((()))\n",
            "Yes\n"
          ]
        }
      ]
    },
    {
      "cell_type": "code",
      "metadata": {
        "colab": {
          "base_uri": "https://localhost:8080/"
        },
        "id": "oCfvyhPtUh4E",
        "outputId": "2675aa0b-1e96-4eb0-e054-292e22645018"
      },
      "source": [
        "# 문제 54 : 연속되는 수\n",
        "# 스탬프에 적힌 숫자가 공백으로 구분되어 주어지면 이 숫자가 연속수인지 아닌지 \"YES\"와 \"NO\"로 판별하는 프로그램\n",
        "\n",
        "stamps = map(int, input('숫자 : ').split())\n",
        "stamps = sorted(stamps)\n",
        "\n",
        "test = []\n",
        "for i in range(stamps[0], len(stamps)+1) :\n",
        "  test.append(i)\n",
        "\n",
        "print('Yes' if (stamps == test) else 'No')"
      ],
      "execution_count": 4,
      "outputs": [
        {
          "output_type": "stream",
          "name": "stdout",
          "text": [
            "숫자 : 1 2 4 3 5\n",
            "Yes\n"
          ]
        }
      ]
    },
    {
      "cell_type": "code",
      "metadata": {
        "colab": {
          "base_uri": "https://localhost:8080/"
        },
        "id": "OuJxMYFRWOwj",
        "outputId": "a7066d6c-7266-4bf6-9235-79e4a849d078"
      },
      "source": [
        "# 문제 54 - 다른 방법\n",
        "user_input = input().split(' ')\n",
        "user_input = [int(i) for i in user_input]\n",
        "\n",
        "def sol(l):\n",
        "    l = sorted(l)\n",
        "    for i in range(len(l) - 1):\n",
        "        if l[i]+1 != l[i+1]:\n",
        "            return 'NO'\n",
        "    return 'YES'\n",
        "\n",
        "print(sol(user_input))"
      ],
      "execution_count": 5,
      "outputs": [
        {
          "output_type": "stream",
          "name": "stdout",
          "text": [
            "1 4 2 6 3\n",
            "NO\n"
          ]
        }
      ]
    },
    {
      "cell_type": "code",
      "metadata": {
        "id": "odsBD1rmXdb1",
        "colab": {
          "base_uri": "https://localhost:8080/"
        },
        "outputId": "5ffd890c-7fa8-42ea-b532-2f6425c0dcfa"
      },
      "source": [
        "# 문제 55 - 하노이의 탑\n",
        "''' 하노이의 규칙\n",
        "1. 처음에 모든 원판은 A기둥에 꽂혀 있다.\n",
        "2. 모든 원판의 지름은 다르다.\n",
        "3. 이 원반은 세 개의 기둥 중 하나에 반드시 꽂혀야 한다.\n",
        "4. 작은 원반 위에 큰 원반을 놓을 수 없다.\n",
        "5. 한 번에 하나의 원판(가장 위에 있는 원판) 만을 옮길 수 있다.\n",
        "'''\n",
        "# 모든 원반을 옮기기 위해 실행되어야 할 최소 원반 이동 횟수를 계산하는 프로그램\n",
        "\n",
        "원판의이동경로 = []\n",
        "def 하노이(원반의수, 시작기둥, 목표기둥, 보조기둥):\n",
        "    #원판이 한개일 때에는 옮기면 됩니다.\n",
        "    if 원반의수 == 1:\n",
        "        원판의이동경로.append([시작기둥, 목표기둥]) \n",
        "        return None\n",
        "    #원반의 n-1개를 경유기둥으로 옮기고\n",
        "    하노이(원반의수-1, 시작기둥, 보조기둥, 목표기둥)\n",
        "    #가장 큰 원반은 목표기둥으로\n",
        "    원판의이동경로.append([시작기둥, 목표기둥]) \n",
        "    #경유기둥과 시작기둥을 바꿉니다!\n",
        "    하노이(원반의수-1, 보조기둥, 목표기둥, 시작기둥)\n",
        "\n",
        "user_input = int(input())\n",
        "하노이(user_input,'A','C','B')\n",
        "\n",
        "print(len(원판의이동경로))"
      ],
      "execution_count": 6,
      "outputs": [
        {
          "output_type": "stream",
          "name": "stdout",
          "text": [
            "3\n",
            "7\n"
          ]
        }
      ]
    },
    {
      "cell_type": "code",
      "metadata": {
        "id": "bTGEpEmi6bf5",
        "colab": {
          "base_uri": "https://localhost:8080/"
        },
        "outputId": "16ba9d89-2b67-4575-b82a-fdf19d575e78"
      },
      "source": [
        "# 문제 56 : 리스트의 함수 응용\n",
        "# 다음의 딕셔너리가 주어졌을 때 한국의 면적과 가장 비슷한 국가와 그 차이를 출력\n",
        "'''\n",
        "데이터\n",
        "nationWidth = {\n",
        "     'korea': 220877,\n",
        "     'Rusia': 17098242,\n",
        "     'China': 9596961,\n",
        "     'France': 543965,\n",
        "     'Japan': 377915,\n",
        "     'England' : 242900 }\n",
        "\n",
        "출력\n",
        "England 22023\n",
        "'''\n",
        "nationWidth = {\n",
        "    'korea' : 220877,\n",
        "    'Rusia' : 17098242,\n",
        "    'China' : 9596961,\n",
        "    'France' : 543965,\n",
        "    'Japan' : 377915,\n",
        "    'England' : 242900\n",
        "}\n",
        "kor = nationWidth['korea']\n",
        "nationWidth.pop('korea')\n",
        "\n",
        "nation = list(nationWidth.keys())\n",
        "\n",
        "minus = []\n",
        "for i in nationWidth.values() :\n",
        "  minus.append(i - kor)\n",
        "print(nation[minus.index(min(minus))])"
      ],
      "execution_count": 7,
      "outputs": [
        {
          "output_type": "stream",
          "name": "stdout",
          "text": [
            "England\n"
          ]
        }
      ]
    },
    {
      "cell_type": "code",
      "metadata": {
        "colab": {
          "base_uri": "https://localhost:8080/"
        },
        "id": "ilx0I4Uzfijn",
        "outputId": "31001cc1-1dd7-46bf-9201-48d2e5fc23d9"
      },
      "source": [
        "# 문제 57 : 내장함수 응용하기\n",
        "# 0부터 1000까지 1의 개수를 세는 프로그램\n",
        "\n",
        "count = 0\n",
        "for i in range(0, 1001) :\n",
        "  cnt = str(i).count('1')\n",
        "  count += cnt\n",
        "\n",
        "print(count)"
      ],
      "execution_count": 8,
      "outputs": [
        {
          "output_type": "stream",
          "name": "stdout",
          "text": [
            "301\n"
          ]
        }
      ]
    },
    {
      "cell_type": "code",
      "metadata": {
        "colab": {
          "base_uri": "https://localhost:8080/"
        },
        "id": "8ZK5OEscmcJu",
        "outputId": "90c80eb2-238a-4e43-b0fc-004244f3e5a0"
      },
      "source": [
        "# 문제 57 - 다른 방법\n",
        "def count(n):\n",
        "\tcountN = str(list(range(n+1))).count('1')\n",
        "\treturn countN\n",
        "\n",
        "print(count(1000))"
      ],
      "execution_count": 9,
      "outputs": [
        {
          "output_type": "stream",
          "name": "stdout",
          "text": [
            "301\n"
          ]
        }
      ]
    },
    {
      "cell_type": "code",
      "metadata": {
        "colab": {
          "base_uri": "https://localhost:8080/"
        },
        "id": "ccjPxx2-mgGB",
        "outputId": "fc112181-64b5-4bc7-e5c7-6dd8a127a09a"
      },
      "source": [
        "# 문제 58 : 콤마 찍기\n",
        "# 숫자를 입력 받고 천단위로 콤마(,)를 찍는 프로그램 작성\n",
        "\n",
        "num = int(input('금액 : '))\n",
        "print(format(num, ','))"
      ],
      "execution_count": 10,
      "outputs": [
        {
          "output_type": "stream",
          "name": "stdout",
          "text": [
            "금액 : 123456789\n",
            "123,456,789\n"
          ]
        }
      ]
    },
    {
      "cell_type": "code",
      "metadata": {
        "colab": {
          "base_uri": "https://localhost:8080/"
        },
        "id": "1i6TfzARnkpW",
        "outputId": "f120f6f3-d080-4614-e825-3e9f806558d6"
      },
      "source": [
        "# 문제 59 : 빈칸채우기\n",
        "# 총 문자열의 길이는 50으로 제한하고 사용자가 문자열을 입력하면 그 문자열을 가운데 정렬을 해주고,\n",
        "# 나머지 빈 부분에는 '='을 채워넣어주세요\n",
        "\n",
        "s = input('문자열')\n",
        "print(s.center(50, '='))"
      ],
      "execution_count": 11,
      "outputs": [
        {
          "output_type": "stream",
          "name": "stdout",
          "text": [
            "문자열hi\n",
            "========================hi========================\n"
          ]
        }
      ]
    },
    {
      "cell_type": "code",
      "metadata": {
        "colab": {
          "base_uri": "https://localhost:8080/"
        },
        "id": "SIzzi3rDoYuW",
        "outputId": "8050cbbb-aae6-496e-d1f2-cb99f794c2db"
      },
      "source": [
        "# 문제 59 - 다른 방법\n",
        "user_input = input()\n",
        "print(\"{0:=^50}\".format(user_input))"
      ],
      "execution_count": 12,
      "outputs": [
        {
          "output_type": "stream",
          "name": "stdout",
          "text": [
            "hi\n",
            "========================hi========================\n"
          ]
        }
      ]
    },
    {
      "cell_type": "code",
      "metadata": {
        "id": "4OzzUBCVqHxB",
        "colab": {
          "base_uri": "https://localhost:8080/"
        },
        "outputId": "5fedb1c1-2033-42c6-e919-f41d1bc748c4"
      },
      "source": [
        "# 문제 60 - enumerate\n",
        "# 이름을 가나다 순서대로 배정하고 번호를 매기려고 한다.\n",
        "'''\n",
        "데이터\n",
        "student = ['강은지','김유정','박현서','최성훈','홍유진','박지호','권윤일','김채리','한지호','김진이','김민호','강채연']\n",
        "'''\n",
        "\n",
        "# range() 함수는 연속된 수열(정수)을 만들어주는 함수\n",
        "# range(start, stop, step)\n",
        "# enumerate() 함수는 순서가 있는 자료형을 입력받아 인덱스와 값을 포함하는 enumerate 객체를 리턴하는 함수\n",
        "# enumerate(iterable, start)\n",
        "\n",
        "student = ['강은지','김유정','박현서','최성훈','홍유진','박지호','권윤일','김채리','한지호','김진이','김민호','강채연']\n",
        "student = sorted(student)\n",
        "\n",
        "for i, name in enumerate(student) :\n",
        "  print('번호 : {}, 이름 : {}'.format(i+1, name))"
      ],
      "execution_count": 13,
      "outputs": [
        {
          "output_type": "stream",
          "name": "stdout",
          "text": [
            "번호 : 1, 이름 : 강은지\n",
            "번호 : 2, 이름 : 강채연\n",
            "번호 : 3, 이름 : 권윤일\n",
            "번호 : 4, 이름 : 김민호\n",
            "번호 : 5, 이름 : 김유정\n",
            "번호 : 6, 이름 : 김진이\n",
            "번호 : 7, 이름 : 김채리\n",
            "번호 : 8, 이름 : 박지호\n",
            "번호 : 9, 이름 : 박현서\n",
            "번호 : 10, 이름 : 최성훈\n",
            "번호 : 11, 이름 : 한지호\n",
            "번호 : 12, 이름 : 홍유진\n"
          ]
        }
      ]
    },
    {
      "cell_type": "code",
      "metadata": {
        "id": "yWfApvnPPLeb",
        "colab": {
          "base_uri": "https://localhost:8080/"
        },
        "outputId": "5c3b597c-0c73-4f98-fd17-50980374e4c5"
      },
      "source": [
        "# 문제 61 : 문자열 압축하기\n",
        "# 문자열을 입력받고 연속되는 문자열을 압축해서 표현\n",
        "\n",
        "s = input('문자열 : ')\n",
        "String = s[0]\n",
        "count = 0\n",
        "new_s = ''\n",
        "for i in s :\n",
        "  if i == String :\n",
        "    count += 1\n",
        "  else :\n",
        "    new_s += String + str(count)\n",
        "    String = i\n",
        "    count = 1\n",
        "new_s += String + str(count)\n",
        "print(new_s)"
      ],
      "execution_count": 14,
      "outputs": [
        {
          "output_type": "stream",
          "name": "stdout",
          "text": [
            "문자열 : aaabbbbccd\n",
            "a3b4c2d1\n"
          ]
        }
      ]
    },
    {
      "cell_type": "code",
      "metadata": {
        "colab": {
          "base_uri": "https://localhost:8080/"
        },
        "id": "0_lCRkPhfK7c",
        "outputId": "2323d733-1f4e-4954-86bc-c3bf0b20f293"
      },
      "source": [
        "# 문제 62 : 20190923 출력하기\n",
        "# 1. 코드 내에 숫자가 없어야 합니다.\n",
        "#     - 예) print(20190923)이라고 하시면 안됩니다.\n",
        "# 2. 파일 이름이나 경로를 사용해서는 안됩니다.\n",
        "# 3. 시간, 날짜 함수를 사용해서는 안됩니다.\n",
        "# 4. 에러 번호 출력을 이용해서는 안됩니다.\n",
        "# 5. input을 이용해서는 안됩니다.\n",
        "\n",
        "li = ['a', 'a', 'c', 'd', 'd', 'd', 'e', 'e', 'e']\n",
        "zero = li.count('b')\n",
        "one = li.count('c')\n",
        "two = li.count('a')\n",
        "three = li.count('d')\n",
        "nine = len(li)\n",
        "\n",
        "print(str(two)+str(zero)+str(one)+str(nine)+str(zero)+str(nine)+str(two)+str(three))"
      ],
      "execution_count": 15,
      "outputs": [
        {
          "output_type": "stream",
          "name": "stdout",
          "text": [
            "20190923\n"
          ]
        }
      ]
    },
    {
      "cell_type": "code",
      "metadata": {
        "colab": {
          "base_uri": "https://localhost:8080/"
        },
        "id": "37YGq7NshOLo",
        "outputId": "cd9b71b1-61af-4786-d119-d0fd4a37dc5e"
      },
      "source": [
        "# 문제 63 : 친해지고 싶어\n",
        "# 어떤 입력이 주어지면 앞 글자만 줄여 출력\n",
        "\n",
        "s = input('입력 : ').split()\n",
        "result = ''\n",
        "for i in s :\n",
        "  result += i[0]\n",
        "\n",
        "print(result)"
      ],
      "execution_count": 16,
      "outputs": [
        {
          "output_type": "stream",
          "name": "stdout",
          "text": [
            "입력 : 복잡한 세상 편하게 살자\n",
            "복세편살\n"
          ]
        }
      ]
    },
    {
      "cell_type": "code",
      "metadata": {
        "id": "wdCa-4pBktsb",
        "colab": {
          "base_uri": "https://localhost:8080/"
        },
        "outputId": "2a01ff56-8141-4603-9192-302c0570ffb4"
      },
      "source": [
        "# 문제 64 : 이상한 엘레베이터\n",
        "# 화물은 7kg, 3kg 두 가지\n",
        "# 입력 : 정량 N이 입력\n",
        "# 출력 : 가장 적게 옮길 수 있는 횟수를 출력합니다.\n",
        "# 만약 어떻게 해도 정량이 N이 되지 않는다면 -1을 출력\n",
        "\n",
        "weight = int(input('무게 : '))\n",
        "total = 0\n",
        "\n",
        "while True :\n",
        "  if (weight % 7 == 0) :\n",
        "    total += weight // 7\n",
        "    print(total)\n",
        "    break\n",
        "  weight -= 3\n",
        "  total += 1\n",
        "  if weight < 0 :\n",
        "    print(-1)\n",
        "    break"
      ],
      "execution_count": 17,
      "outputs": [
        {
          "output_type": "stream",
          "name": "stdout",
          "text": [
            "무게 : 21\n",
            "3\n"
          ]
        }
      ]
    },
    {
      "cell_type": "code",
      "metadata": {
        "colab": {
          "base_uri": "https://localhost:8080/"
        },
        "id": "TRQtedVNHMp0",
        "outputId": "39404542-09fe-425c-c414-efecfc315bcc"
      },
      "source": [
        "# 문제 65 : 변형된 리스트\n",
        "# a = [1,2,3,4]\n",
        "# b = [a,b,c,d]\n",
        "# 이런 리스트가 있을 때 [[1,a],[b,2],[3,c],[d,4]] 이런식으로 a,b리스트가 번갈아가면서 출력\n",
        "\n",
        "a = [1, 2, 3, 4]\n",
        "b = ['a', 'b', 'c', 'd']\n",
        "\n",
        "c = []\n",
        "k = 0\n",
        "for i, j in zip(a, b) :\n",
        "  if (k % 2 == 0) :\n",
        "    c.append([i, j])\n",
        "  else :\n",
        "    c.append([j, i])\n",
        "  k += 1\n",
        "\n",
        "print(c)"
      ],
      "execution_count": 18,
      "outputs": [
        {
          "output_type": "stream",
          "name": "stdout",
          "text": [
            "[[1, 'a'], ['b', 2], [3, 'c'], ['d', 4]]\n"
          ]
        }
      ]
    },
    {
      "cell_type": "code",
      "metadata": {
        "id": "3c6nHQ9RIeLz",
        "colab": {
          "base_uri": "https://localhost:8080/"
        },
        "outputId": "cbdfc33f-ef85-4a06-8fa5-ecf9561d12e2"
      },
      "source": [
        "# ★★★★★\n",
        "# 문제 66 : 블럭탑쌓기\n",
        "# 탑을 쌓기 위해 각 크기별로 준비된 블럭들을 정해진 순서에 맞게 쌓아햐 합니다.\n",
        "# B를 쌓지 않아도 A와 C를 쌓을 수 있습니다.\n",
        "# B 다음 블럭이 C가 될 수 있습니다.\n",
        "# 1. 블럭은 알파벳 대문자로 표기합니다.\n",
        "# 2. 규칙에 없는 블럭이 사용될 수 있습니다.\n",
        "# 3. 중복된 블럭은 존재하지 않습니다.\n",
        "\n",
        "# 전체블록 = ['ABCDEF', 'BCAD', 'ADEFQRX', 'BEDFG', 'AEBFDGCH']\n",
        "# 규칙 = 'ABCD'\n",
        "def solution(전체블록, 규칙):\n",
        "    answer = []\n",
        "    for 부분블록 in 전체블록:\n",
        "        answer.append(블록순서체크(부분블록, 규칙))\n",
        "    return answer\n",
        "\n",
        "def 블록순서체크(부분블록, 규칙):\n",
        "    임시변수 = 규칙.index(규칙[0])\n",
        "    for 문자 in 부분블록:\n",
        "        if 문자 in 규칙:\n",
        "            if 임시변수 > 규칙.index(문자):\n",
        "                return '불가능'\n",
        "            임시변수 = 규칙.index(문자)\n",
        "    return '가능'\n",
        "\n",
        "전체블록 = ['ABCDEF', 'BCAD', 'ADEFQRX', 'BEDFG', 'AEBFDGCH']\n",
        "규칙 = 'ABCD'\n",
        "\n",
        "print(solution(전체블록, 규칙))"
      ],
      "execution_count": 19,
      "outputs": [
        {
          "output_type": "stream",
          "name": "stdout",
          "text": [
            "['가능', '불가능', '가능', '가능', '불가능']\n"
          ]
        }
      ]
    },
    {
      "cell_type": "code",
      "metadata": {
        "id": "5iUrNJ3VLRNA"
      },
      "source": [
        "# ★★★★★\n",
        "# 문제 67 : 민규의 악수\n",
        "# 진행된 악수는 총 n번이라고 했을때, \n",
        "# 민규는 몇번의 악수를 하고 집으로 돌아갔을까?\n",
        "# 이때 민규를 포함한 행사 참가자는 몇명일까?\n",
        "# - 악수는 모두 1대 1로 진행이 된다.\n",
        "# - 민규를 제외한 모든 참가자는 자신을 제외한 참가자와 모두 한번씩 악수를 한다.\n",
        "# - 같은 상대와 중복된 악수는 카운트 하지 않는다.\n",
        "# - 민규를 제외한 참가자는 행사를 모두 마쳤다.\n",
        "# input : n (행사에서 진행된 악수 횟수)\n",
        "# output : [ 민규의 악수횟수 , 행사참가자]\n",
        "\n",
        "# n = int(input('행사에서 진행된 악수 횟수 : '))\n",
        "\n",
        "# print('민규의 악수 횟수 : {}, 행사 참가자 : {}')"
      ],
      "execution_count": 21,
      "outputs": []
    },
    {
      "cell_type": "code",
      "metadata": {
        "colab": {
          "base_uri": "https://localhost:8080/"
        },
        "id": "XFODdSkVLUBa",
        "outputId": "427e6216-6ece-4f82-d940-119d0d5854b3"
      },
      "source": [
        "# 문제 68 : 버스 시간표\n",
        "# 버스시간표와 현재 시간이 주어졌을 때 버스 도착 시간이 얼마나 남았는지 알려주는 프로그램\n",
        "# - 버스 시간표와 현재시간이 입력으루 주어집니다.\n",
        "# - 출력 포맷은 \"00시00분\"입니다.\n",
        "#    만약 1시간 3분이 남았다면 \"01시간03분\"으로 출력해야 합니다.\n",
        "# - 버스 시간표에 현재 시간보다 이전인 버스가 있다면 \"지나갔습니다.\"라고 출력합니다.\n",
        "\n",
        "result = []\n",
        "def sol(bus_t, t) :\n",
        "  t = t.split(':')\n",
        "  for i in bus_t :\n",
        "    time = i.split(':')\n",
        "    rest = int(time[0])*60 + int(time[1]) - int(t[0])*60 - int(t[1])\n",
        "\n",
        "    if (rest < 0) :\n",
        "      result.append('지나갔습니다.')\n",
        "    else :\n",
        "      h = rest // 60\n",
        "      m = rest % 60\n",
        "      result.append(str(h).zfill(2) + '시간' + str(m).zfill(2) + '분')\n",
        "\n",
        "  return result\n",
        "\n",
        "sol([\"12:30\", \"13:20\", \"14:13\"], \"12:40\")"
      ],
      "execution_count": 22,
      "outputs": [
        {
          "output_type": "execute_result",
          "data": {
            "text/plain": [
              "['지나갔습니다.', '00시간40분', '01시간33분']"
            ]
          },
          "metadata": {},
          "execution_count": 22
        }
      ]
    },
    {
      "cell_type": "code",
      "metadata": {
        "id": "tkHSyGZjLTfP"
      },
      "source": [
        "# ★★★★★\n",
        "# 문제 69 : 골드바흐의 추측\n",
        "# 2보다 큰 모든 짝수는 두 개의 소수(Prime number)의 합으로 표시할 수 있다는 것\n",
        "# 이때 하나의 소수를 두 번 사용하는 것은 허용한다.\n",
        "# 2보다 큰 짝수 n이 주어졌을 때, 골드바흐 파티션을 출력하는 코드를 작성\n",
        "\n",
        "# n = int(input('2보다 큰 짝수 : '))\n"
      ],
      "execution_count": 23,
      "outputs": []
    },
    {
      "cell_type": "code",
      "metadata": {
        "colab": {
          "base_uri": "https://localhost:8080/"
        },
        "id": "tZ6USpWaLTVR",
        "outputId": "b351345e-37cd-4ca6-8a24-42d3fa2a3362"
      },
      "source": [
        "# 문제 70 : 행렬 곱하기\n",
        "# 행렬 2개가 주어졌을 때 곱할 수 있는 행렬인지 확인하고 \n",
        "# 곱할 수 있다면 그 결과를, 곱할 수 없다면 -1을 출력하는 프로그램\n",
        "\n",
        "a = ([1, 2],\n",
        "     [2, 4])\n",
        "b = ([1, 0],\n",
        "     [0, 3])\n",
        "\n",
        "def sol(a, b):\n",
        "    c = []\n",
        "    if len(a) == len(b[0]):\n",
        "\n",
        "      for i in range(len(a)):\n",
        "            c.append([0]*len(b[0]))\n",
        "            \n",
        "      for i in range(len(c)):\n",
        "          for j in range(len(c[i])):\n",
        "              for k in range(len(a[i])):\n",
        "                    c[i][j] += a[i][k] * b[k][j]\n",
        "      return c\n",
        "    else:\n",
        "        return -1\n",
        "\n",
        "sol(a, b)"
      ],
      "execution_count": 24,
      "outputs": [
        {
          "output_type": "execute_result",
          "data": {
            "text/plain": [
              "[[1, 6], [2, 12]]"
            ]
          },
          "metadata": {},
          "execution_count": 24
        }
      ]
    }
  ]
}