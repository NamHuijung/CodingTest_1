{
 "cells": [
  {
   "cell_type": "markdown",
   "id": "ae5fe42b",
   "metadata": {},
   "source": [
    "**문제 31 ~ 문제 50**"
   ]
  },
  {
   "cell_type": "code",
   "execution_count": 1,
   "id": "e060b8de",
   "metadata": {},
   "outputs": [
    {
     "data": {
      "text/plain": [
       "'\\n1. ㅣ[i]\\n2. l.append(5)\\n3. l[a:b]\\n4. l.pop()\\n5. l.clear()\\n'"
      ]
     },
     "execution_count": 1,
     "metadata": {},
     "output_type": "execute_result"
    }
   ],
   "source": [
    "# 문제 31 : 파이썬 자료형의 복잡도\n",
    "# 다음 리스트의 내장함수의 시간 복잡도가 O(1)이 아닌것은?\n",
    "\n",
    "'''\n",
    "1. ㅣ[i]\n",
    "2. l.append(5)\n",
    "3. l[a:b]\n",
    "4. l.pop()\n",
    "5. l.clear()\n",
    "'''\n",
    "# 정답 : 3번\n",
    "# l[a:b] => O(b-a), 슬라이스의 길이만큼의 요소를 가져옴"
   ]
  },
  {
   "cell_type": "code",
   "execution_count": 2,
   "id": "d3f6ed30",
   "metadata": {},
   "outputs": [
    {
     "name": "stdout",
     "output_type": "stream",
     "text": [
      "입력 : 안녕하세요. 저는 제주대학교 컴퓨터공학전공 혜림입니다.\n",
      "출력 : 5\n"
     ]
    }
   ],
   "source": [
    "# 문제 32 : 문자열 만들기\n",
    "# 문자열을 입력받으면 단어의 갯수를 출력하는 프로그램\n",
    "\n",
    "s = input('입력 : ')\n",
    "print('출력 : {}'.format(len(s.split(' '))))"
   ]
  },
  {
   "cell_type": "code",
   "execution_count": 3,
   "id": "f3eb1fd7",
   "metadata": {},
   "outputs": [
    {
     "name": "stdout",
     "output_type": "stream",
     "text": [
      "안녕하세요. 저는 제주대학교 컴퓨터공학전공 혜림입니다.\n",
      "5\n"
     ]
    }
   ],
   "source": [
    "# 문제 32 - 다른 방법\n",
    "n = input()\n",
    "l = list(n.strip().split())\n",
    "print(len(l))"
   ]
  },
  {
   "cell_type": "code",
   "execution_count": 4,
   "id": "e7ab9578",
   "metadata": {},
   "outputs": [
    {
     "name": "stdout",
     "output_type": "stream",
     "text": [
      "입력 : 1 2 3 4 5\n",
      "출력 : 5 4 3 2 1 "
     ]
    }
   ],
   "source": [
    "# 문제 33 : 거꾸로 출력하기\n",
    "# 한 줄에 여러개의 숫자가 입력되면, 역순으로 그 숫자들을 하나씩 출력하는 프로그램\n",
    "\n",
    "num = input('입력 : ').split(' ')\n",
    "print('출력 : ', end = '')\n",
    "for i in range(len(num)) :\n",
    "    print(num[-i -1], end = ' ')"
   ]
  },
  {
   "cell_type": "code",
   "execution_count": 5,
   "id": "a2971ba5",
   "metadata": {},
   "outputs": [
    {
     "name": "stdout",
     "output_type": "stream",
     "text": [
      "2 4 6 7 8\n",
      "8 7 6 4 2 "
     ]
    }
   ],
   "source": [
    "# 문제 33 - 다른 방법\n",
    "n = input()\n",
    "\n",
    "l = list(n.strip().split())\n",
    "len1 = len(l) - 1\n",
    "for i in range(len1, -1, -1):\n",
    "    print(l[i], end=' ')"
   ]
  },
  {
   "cell_type": "code",
   "execution_count": 6,
   "id": "270c69b4",
   "metadata": {},
   "outputs": [
    {
     "name": "stdout",
     "output_type": "stream",
     "text": [
      "입력 : 176 156 155 165 166 169\n",
      "출력 : NO\n"
     ]
    }
   ],
   "source": [
    "# 문제 34 : sort 확인하기\n",
    "# 키가 주어지면 순서대로 제대로 섰는지 확인하는 프로그램\n",
    "\n",
    "hight = [int(x) for x in input('입력 : ').split()]\n",
    "hight_sort = sorted(hight)\n",
    "\n",
    "if hight == hight_sort :\n",
    "    print('출력 : YES')\n",
    "else : \n",
    "    print('출력 : NO')"
   ]
  },
  {
   "cell_type": "code",
   "execution_count": 7,
   "id": "4756e78f",
   "metadata": {},
   "outputs": [
    {
     "name": "stdout",
     "output_type": "stream",
     "text": [
      "176 156 155 165 166 169\n",
      "NO\n"
     ]
    }
   ],
   "source": [
    "# 문제 34 - 다른 방법\n",
    "user_input = input()\n",
    "\n",
    "l = list(user_input.strip().split())\n",
    "l = [int (i) for i in l]\n",
    "\n",
    "if l != sorted(l):\n",
    "    print(\"NO\")\n",
    "\n",
    "else:\n",
    "    print(\"YES\")"
   ]
  },
  {
   "cell_type": "code",
   "execution_count": 8,
   "id": "bbac9e1d",
   "metadata": {},
   "outputs": [
    {
     "name": "stdout",
     "output_type": "stream",
     "text": [
      "100\n",
      "1000\n",
      "10000\n"
     ]
    }
   ],
   "source": [
    "# 문제 35 : Factory 함수 사용하기\n",
    "# 2제곱, 3제곱, 4제곱을 할 수 있는 Factory 함수를 만들려고 합니다.\n",
    "\n",
    "def one(n):\n",
    "    def two(k):\n",
    "        m = k ** n\n",
    "        return m\n",
    "    return two\n",
    "\n",
    "a = one(2)\n",
    "b = one(3)\n",
    "c = one(4)\n",
    "print(a(10))\n",
    "print(b(10))\n",
    "print(c(10))"
   ]
  },
  {
   "cell_type": "code",
   "execution_count": 9,
   "id": "dda0d82b",
   "metadata": {},
   "outputs": [
    {
     "name": "stdout",
     "output_type": "stream",
     "text": [
      "숫자 입력 : 2\n",
      "2 4 6 8 10 12 14 16 18 "
     ]
    }
   ],
   "source": [
    "# 문제 36 : 구구단 출력하기\n",
    "# 1~9까지의 숫자 중 하나를 입력하면 그 단의 구구단 결과를 한 줄에 출력하는 프로그램\n",
    "\n",
    "num = int(input('숫자 입력 : '))\n",
    "for i in range(1, 10) :\n",
    "    print(num * i, end=' ')"
   ]
  },
  {
   "cell_type": "code",
   "execution_count": 10,
   "id": "7e3fd283",
   "metadata": {},
   "outputs": [
    {
     "name": "stdout",
     "output_type": "stream",
     "text": [
      "입력\n",
      "원범 원범 혜원 혜원 혜원 혜원 유진 유진\n",
      "혜원(이)가 총 4표로 반장이 되었습니다.\n"
     ]
    }
   ],
   "source": [
    "# 문제 37 : count 사용하기\n",
    "# 학생들이 뽑은 후보들을 입력받으면 뽑힌 학생의 이름과 받은 표 수를 출력하는 프로그램\n",
    "\n",
    "st = input('입력\\n').strip().split()\n",
    "data = dict()\n",
    "for name in st :\n",
    "    if (name in data) :\n",
    "        data[name] += 1\n",
    "    else :\n",
    "        data[name] = 1\n",
    "st_max = max(zip(data.keys(), data.values()))\n",
    "print('{}(이)가 총 {}표로 반장이 되었습니다.'.format(st_max[0], st_max[1]))"
   ]
  },
  {
   "cell_type": "code",
   "execution_count": 11,
   "id": "e285b1d1",
   "metadata": {
    "scrolled": true
   },
   "outputs": [
    {
     "name": "stdout",
     "output_type": "stream",
     "text": [
      "원범 원범 혜원 혜원 혜원 혜원 유진 유진\n",
      "혜원(이)가 총 4표로 반장이 되었습니다.\n"
     ]
    }
   ],
   "source": [
    "# 문제 37 - 다른 방법\n",
    "data = input().split()\n",
    "data_set = set(data)\n",
    "data_dict = {}\n",
    "for key in data_set:\n",
    "    data_dict[key] = data.count(key)\n",
    "\n",
    "print(f'{max(data_dict, key=data_dict.get)}(이)가 총 {max(data_dict.values())}표로 반장이 되었습니다.')"
   ]
  },
  {
   "cell_type": "code",
   "execution_count": 12,
   "id": "bd27b05b",
   "metadata": {},
   "outputs": [
    {
     "name": "stdout",
     "output_type": "stream",
     "text": [
      "점수 입력 : 97 86 75 66 55 97 85 97 97 95\n",
      "출력 : 6\n"
     ]
    }
   ],
   "source": [
    "# 문제 38 : 호준이의 아르바이트\n",
    "# 학생들의 점수를 공백으로 구분하여 입력받는다. \n",
    "# 1위~ 3위 학생은 여러명일 수 있고 1~3위 학생 중 중복되는 학생까지 포함하여 사탕을 사기로 한다.\n",
    "# - 학생 수는 4명 이상입니다.\n",
    "# - 숫자 외에 다른 값은 입력되지 않습니다.\n",
    "\n",
    "score = [int(x) for x in input('점수 입력 : ').split()]\n",
    "score.sort(reverse=True)\n",
    "candy = dict()\n",
    "cnt = 0\n",
    "for i in range(len(score)) :\n",
    "    if (score[i] in candy) :\n",
    "        candy[score[i]] += 1\n",
    "    else :\n",
    "        if (cnt == 3) :\n",
    "            break\n",
    "        candy[score[i]] = 1\n",
    "        cnt += 1\n",
    "    \n",
    "        \n",
    "print('출력 :', sum(candy.values()))"
   ]
  },
  {
   "cell_type": "code",
   "execution_count": 13,
   "id": "f0ab3ebe",
   "metadata": {},
   "outputs": [
    {
     "name": "stdout",
     "output_type": "stream",
     "text": [
      "97 86 75 66 55 97 85 97 97 95\n",
      "6\n"
     ]
    }
   ],
   "source": [
    "# 문제 38 - 다른 방법\n",
    "data = input().split()\n",
    "data = [int(i) for i in data]\n",
    "\n",
    "count = 0\n",
    "\n",
    "if len(set(data)) <= 3:\n",
    "    count = len(data)\n",
    "else:\n",
    "    break_point = sorted(list(set(data)), reverse=True)[3]\n",
    "    data_sorted = sorted(data, reverse=True)\n",
    "    for i in data_sorted:\n",
    "        if break_point == i:\n",
    "            break\n",
    "        else:\n",
    "            count += 1\n",
    "\n",
    "print(count)"
   ]
  },
  {
   "cell_type": "code",
   "execution_count": 14,
   "id": "6a3be991",
   "metadata": {},
   "outputs": [
    {
     "name": "stdout",
     "output_type": "stream",
     "text": [
      "입력 : querty\n",
      "출력 : euerty\n"
     ]
    }
   ],
   "source": [
    "# 문제 39 : 오타 수정하기\n",
    "# 문장이 입력되면 모든 q를 e로, b를 n으로 바꾸는 프로그램\n",
    "# 완성하려는 문장 안에 q나 b가 들어가지 않는다고 가정합니다.\n",
    "\n",
    "s = input('입력 : ')\n",
    "\n",
    "s = s.replace('q' , 'e')\n",
    "s = s.replace('b', 'n')\n",
    "# 한줄로 표현 \n",
    "# data.replace('q', 'e').replace('b', 'n')\n",
    "\n",
    "print('출력 :', s)"
   ]
  },
  {
   "cell_type": "code",
   "execution_count": 15,
   "id": "85658f96",
   "metadata": {},
   "outputs": [
    {
     "name": "stdout",
     "output_type": "stream",
     "text": [
      "제한 무게 : 50\n",
      "친구들의 수 : 5\n",
      "20\n",
      "20\n",
      "20\n",
      "20\n",
      "20\n",
      "출력 : 5\n"
     ]
    }
   ],
   "source": [
    "# 문제 40 : 놀이동산에 가자\n",
    "# 무게 제한이 있는 놀이기구를 총 몇 명 탈 수 있는지 알 수 있는 프로그램\n",
    "# 첫번째 줄에서 제한 무게가 주어지고 두번째 줄에서는 함께한 친구들의 수 n이 주어집니다. \n",
    "# 그 다음 차례대로 탑승할 친구들의 몸무게가 주어집니다. 몸무게는 무작위로 주어집니다.\n",
    "# 단, 놀이기구는 선착순으로만 탈 수 있습니다.\n",
    "# 두 명 이상의 인원이 항상 탑승합니다.\n",
    "\n",
    "wight_lim = float(input('제한 무게 : '))\n",
    "friend_cnt = int(input('친구들의 수 : '))\n",
    "cnt = 0\n",
    "for i in range(friend_cnt) :\n",
    "    wight = float(input())\n",
    "    if wight < wight_lim :\n",
    "        cnt += 1\n",
    "\n",
    "print('출력 :', cnt)"
   ]
  },
  {
   "cell_type": "code",
   "execution_count": 16,
   "id": "3a645aa5",
   "metadata": {},
   "outputs": [
    {
     "name": "stdout",
     "output_type": "stream",
     "text": [
      "50\n",
      "5\n",
      "20\n",
      "20\n",
      "20\n",
      "20\n",
      "20\n",
      "2\n"
     ]
    }
   ],
   "source": [
    "제한무게 = float(input())\n",
    "친구수 = int(input())\n",
    "친구몸무게 = []\n",
    "전체몸무게 = 0\n",
    "제한수 = 0\n",
    "비교 = True\n",
    "\n",
    "for i in range(친구수):\n",
    "    친구몸무게.append(float(input()))\n",
    "    전체몸무게 += 친구몸무게[i]\n",
    "    if 전체몸무게 > 제한무게:\n",
    "        if 비교:\n",
    "            비교 = False\n",
    "            제한수 = i\n",
    "if 제한수 == 0 and 친구몸무게[0] <= 제한무게:\n",
    "    print(len(친구몸무게))\n",
    "else:\n",
    "    print(제한수)"
   ]
  },
  {
   "cell_type": "code",
   "execution_count": 17,
   "id": "f30c0725",
   "metadata": {},
   "outputs": [
    {
     "name": "stdout",
     "output_type": "stream",
     "text": [
      "숫자: 17\n",
      "YES\n"
     ]
    }
   ],
   "source": [
    "# 문제 41 : 소수판별\n",
    "# 숫자가 주어지면 소수인지 아닌지 판별하는 프로그램\n",
    "# 소수이면 YES로, 소수가 아니면 NO로 출력\n",
    "# 소수 : 1과 자기 자신만으로 나누어떨어지는 1보다 큰 양의 정수\n",
    "# 음의 소수는 고려하지 않습니다.\n",
    "\n",
    "num = int(input('숫자: '))\n",
    "if (num <= 1) :\n",
    "    print('NO')\n",
    "elif (num == 2) :\n",
    "    print('YES')\n",
    "else :\n",
    "    for i in range(2, num) :\n",
    "        if (num % i == 0) :\n",
    "            print('NO')\n",
    "            break\n",
    "    else :\n",
    "        print('YES')"
   ]
  },
  {
   "cell_type": "code",
   "execution_count": 18,
   "id": "dfac0e88",
   "metadata": {},
   "outputs": [
    {
     "name": "stdout",
     "output_type": "stream",
     "text": [
      "YES\n"
     ]
    }
   ],
   "source": [
    "# 문제 41 - 다른 방법\n",
    "def chech_prime(n):\n",
    "    if n <= 1:\n",
    "        return \"NO\"\n",
    "    i = 2\n",
    "    소수 = True\n",
    "    while (i**2) < n:\n",
    "        if n % i == 0:\n",
    "            소수 = False\n",
    "            break\n",
    "        i += 1\n",
    "    if 소수:\n",
    "        return \"YES\"\n",
    "    else:\n",
    "        return \"NO\"\n",
    "\n",
    "print(chech_prime(1223))"
   ]
  },
  {
   "cell_type": "code",
   "execution_count": 19,
   "id": "b9d99f11",
   "metadata": {},
   "outputs": [
    {
     "name": "stdout",
     "output_type": "stream",
     "text": [
      "오늘은 : 2021-11-06 22:13:15.160750\n",
      "2021년 11월 6일 5요일\n",
      "22시 13분 15초\n",
      "2020-05-24\n"
     ]
    }
   ],
   "source": [
    "# 문제 42 : 요일 구하기(datetime 모듈 사용)\n",
    "\n",
    "import datetime\n",
    "today = datetime.datetime.today()\n",
    "year = datetime.date.today().year\n",
    "year = datetime.datetime.today().year\n",
    "month = datetime.datetime.today().month\n",
    "day = datetime.datetime.today().day\n",
    "hour = datetime.datetime.today().hour\n",
    "minute = datetime.datetime.today().minute\n",
    "second = datetime.datetime.today().second\n",
    "weekday = datetime.datetime.today().weekday()\n",
    "date = datetime.date(2020, 5, 24)\n",
    "\n",
    "print('오늘은 : {}'.format(today))\n",
    "print('{}년 {}월 {}일 {}요일'.format(year, month, day, weekday))\n",
    "print('{}시 {}분 {}초'.format(hour, minute, second))\n",
    "print(date)"
   ]
  },
  {
   "cell_type": "code",
   "execution_count": 20,
   "id": "b86fb2ec",
   "metadata": {},
   "outputs": [
    {
     "name": "stdout",
     "output_type": "stream",
     "text": [
      "월 : 5\n",
      "일 : 24\n",
      "SUN\n"
     ]
    }
   ],
   "source": [
    "# a월 b일을 나타내는 두 수 a, b를 입력받아 2020년 a월 b일이 무슨 요일인지 리턴하는 함수 => solution\n",
    "# 요일의 이름은 일요일부터 토요일까지 각각 SUN, MON, TUE, WED, THU, FRI, SAT 입니다.\n",
    "\n",
    "import datetime\n",
    "\n",
    "month = int(input('월 : '))\n",
    "year = int(input('일 : '))\n",
    "\n",
    "def solution(a, b) :\n",
    "    weeks = ['MON', 'TUE', 'WED', 'THU', 'FRI', 'SAT', 'SUN']\n",
    "    return weeks[datetime.date(2020, month, year).weekday()]\n",
    "\n",
    "print(solution(month, year))"
   ]
  },
  {
   "cell_type": "code",
   "execution_count": 23,
   "id": "eb8b4e75",
   "metadata": {},
   "outputs": [
    {
     "name": "stdout",
     "output_type": "stream",
     "text": [
      "숫자 : 111\n",
      "2진수 출력 : 1101111\n"
     ]
    }
   ],
   "source": [
    "# 문제 43 : 10진수를 2진수로\n",
    "# 사용자에게 숫자를 입력받고 이를 2진수로 바꾸고 그 값을 출력\n",
    "\n",
    "num = int(input('숫자 : '))\n",
    "bin_str = ''\n",
    "while (num != 0) :\n",
    "    bin_str = str(num % 2) + bin_str\n",
    "    num = num // 2\n",
    "\n",
    "print('2진수 출력 : {}'.format(bin_str))"
   ]
  },
  {
   "cell_type": "code",
   "execution_count": 24,
   "id": "64685abe",
   "metadata": {},
   "outputs": [
    {
     "name": "stdout",
     "output_type": "stream",
     "text": [
      "111\n",
      "111\n",
      "55\n",
      "27\n",
      "13\n",
      "6\n",
      "3\n",
      "1\n",
      "['1', '1', '1', '1', '0', '1', '1']\n",
      "['1', '1', '0', '1', '1', '1', '1']\n",
      "1101111\n"
     ]
    }
   ],
   "source": [
    "# 문제 43 - 다른 방법\n",
    "a = int(input())\n",
    "b = []\n",
    "\n",
    "while a:\n",
    "    print(a)\n",
    "    b.append(str(a % 2))\n",
    "    a = int(a / 2)\n",
    "\n",
    "print(b)\n",
    "b.reverse()\n",
    "print(b)\n",
    "print(''.join(b))"
   ]
  },
  {
   "cell_type": "code",
   "execution_count": 25,
   "id": "4d271e61",
   "metadata": {},
   "outputs": [
    {
     "name": "stdout",
     "output_type": "stream",
     "text": [
      "숫자 : 18234\n",
      "각 자리의 합 : 18\n"
     ]
    }
   ],
   "source": [
    "# 문제 44 : 각 자리수의 합\n",
    "# 사용자가 입력한 양의 정수의 각 자리수의 합을 구하는 프로그램\n",
    "\n",
    "num = int(input('숫자 : '))\n",
    "n_li = []\n",
    "while (num != 0) :\n",
    "    n_li.append(num % 10)\n",
    "    num = num // 10\n",
    "print('각 자리의 합 : {}'.format(sum(n_li)))"
   ]
  },
  {
   "cell_type": "code",
   "execution_count": 26,
   "id": "95627bb8",
   "metadata": {},
   "outputs": [
    {
     "name": "stdout",
     "output_type": "stream",
     "text": [
      "18234\n",
      "18\n"
     ]
    }
   ],
   "source": [
    "# 문제 44 - 다른 방법1\n",
    "n = list(map(int,input()))\n",
    "result = 0\n",
    "for i in n:\n",
    "    result += i\n",
    "\n",
    "print(result)"
   ]
  },
  {
   "cell_type": "code",
   "execution_count": 27,
   "id": "03bf8303",
   "metadata": {},
   "outputs": [
    {
     "name": "stdout",
     "output_type": "stream",
     "text": [
      "3849\n",
      "24\n"
     ]
    }
   ],
   "source": [
    "# 문제 44 - 다른 방법2\n",
    "result = 0\n",
    "for i in input():\n",
    "    result += int(i)\n",
    "\n",
    "print(result)"
   ]
  },
  {
   "cell_type": "code",
   "execution_count": 28,
   "id": "a0207951",
   "metadata": {},
   "outputs": [
    {
     "name": "stdout",
     "output_type": "stream",
     "text": [
      "2021\n"
     ]
    }
   ],
   "source": [
    "# 문제 45 - time 함수 사용하기\n",
    "# python의 모듈 중 하나인 time 모듈은 1970년 1월 1일 0시 0분 0초 이후로부터 지금까지 흐른 시간을 초단위로 반환합니다\n",
    "# 이를 이용하여 현재 연도(2021)를 출력해보세요\n",
    "\n",
    "import time\n",
    "# time.time() : 현재의 시스템 타임스탬프를 초 단위로 return\n",
    "\n",
    "t = time.time()\n",
    "print(int(t // (3600 * 24 * 365) + 1970)) # 1년 동안의 초로 나누고(= 51) 필요한 만큼 더한다. "
   ]
  },
  {
   "cell_type": "code",
   "execution_count": 29,
   "id": "d647f9d7",
   "metadata": {},
   "outputs": [
    {
     "name": "stdout",
     "output_type": "stream",
     "text": [
      "901\n"
     ]
    }
   ],
   "source": [
    "# 문제 46 : str 자료형의 응용\n",
    "# 1부터 100까지의(100을 포함) 모든 숫자를 일렬로 놓고 모든 자릿수의 총합\n",
    "\n",
    "num_s = ''\n",
    "total = 0\n",
    "\n",
    "for i in range(1, 101) :\n",
    "    num_s += str(i)\n",
    "    \n",
    "for i in range(len(num_s)) : # for i in num_s\n",
    "    total += int(num_s[i]) # total += int(i)\n",
    "\n",
    "print(total)"
   ]
  },
  {
   "cell_type": "code",
   "execution_count": 30,
   "id": "6b885926",
   "metadata": {},
   "outputs": [
    {
     "name": "stdout",
     "output_type": "stream",
     "text": [
      "5\n"
     ]
    }
   ],
   "source": [
    "# 문제 47 : set 자료형의 응용\n",
    "# 중복된 데이터들을 삭제하여 실제 접수 명단이 몇 명인지 구하기\n",
    "\n",
    "people = [\n",
    "         ('이호준', '01050442903'),\n",
    "         ('이호상', '01051442904'),\n",
    "         ('이준호', '01050342904'),\n",
    "         ('이호준', '01050442903'),\n",
    "         ('이준', '01050412904'),\n",
    "         ('이호', '01050443904'),\n",
    "         ('이호준', '01050442903'),\n",
    "         ]\n",
    "\n",
    "print(len(set(people)))"
   ]
  },
  {
   "cell_type": "code",
   "execution_count": 31,
   "id": "d03b6050",
   "metadata": {},
   "outputs": [
    {
     "name": "stdout",
     "output_type": "stream",
     "text": [
      "문자열 : AAABBBcccddd\n",
      "aaabbbCCCDDD"
     ]
    }
   ],
   "source": [
    "# 문제 48 : 대소문자 바꿔서 출력하기\n",
    "# 문자열이 주어지면 대문자와 소문자를 바꿔서 출력하는 프로그램\n",
    "\n",
    "# upper() : 대문자 출력\n",
    "# lower() : 소문자 출력\n",
    "# isupper() : 문자열의 모든 문자가 대문자인지 확인하는 함수\n",
    "# islower() : 문자열의 모든 문자가 소문자인지 확인하는 함수\n",
    "\n",
    "s = input('문자열 : ')\n",
    "s_new = ''\n",
    "for i in s :\n",
    "    if i.isupper() :\n",
    "        s_new += i.lower()\n",
    "    elif i.islower() :\n",
    "        s_new += i.upper()\n",
    "        \n",
    "print(s_new, end='')"
   ]
  },
  {
   "cell_type": "code",
   "execution_count": 32,
   "id": "7cff9cd8",
   "metadata": {},
   "outputs": [
    {
     "name": "stdout",
     "output_type": "stream",
     "text": [
      "10 9 8 7 6 5 4 3 2 1\n",
      "10\n"
     ]
    }
   ],
   "source": [
    "# 문제 49 : 최댓값 구하기\n",
    "# 순서가 없는 10개의 숫자가 공백으로 구분되어 주어진다. \n",
    "# 주어진 숫자들 중 최댓값을 반환\n",
    "\n",
    "num = [int(x) for x in input().strip().split()]\n",
    "\n",
    "print(max(num))"
   ]
  },
  {
   "cell_type": "code",
   "execution_count": 33,
   "id": "3cc22fa5",
   "metadata": {},
   "outputs": [
    {
     "name": "stdout",
     "output_type": "stream",
     "text": [
      "10 9 8 7 6 5 4 3 2 1\n",
      "10\n"
     ]
    }
   ],
   "source": [
    "# 문제 49 - 다른 방법\n",
    "data = list(map(int, input().split()))\n",
    "print(sorted(data)[-1])"
   ]
  },
  {
   "cell_type": "code",
   "execution_count": 34,
   "id": "48d46b69",
   "metadata": {},
   "outputs": [
    {
     "name": "stdout",
     "output_type": "stream",
     "text": [
      "5\n",
      "4 2 3 8 5\n",
      "2 3 4 5 8 "
     ]
    }
   ],
   "source": [
    "# 문제 50 - 버블정렬 구현하기\n",
    "# 빈칸 채우기\n",
    "'''\n",
    "def bubble(n, data):\n",
    "    for i in range(n-1):\n",
    "        for j in range(빈칸을 채워주세요):\n",
    "            if data[j] > data[j+1]:\n",
    "                빈칸을 채워주세요\n",
    "    for i in range(n):\n",
    "        print(data[i], end = \" \")\n",
    "\n",
    "n = int(input())\n",
    "data = list(map(int, input().split()))\n",
    "\n",
    "bubble(n, data)\n",
    "'''\n",
    "\n",
    "def bubble(n, data):\n",
    "    for i in range(n-1):\n",
    "        for j in range(n-1-i):\n",
    "            if data[j] > data[j+1]:\n",
    "                k = data[j]\n",
    "                data[j] = data[j+1]\n",
    "                data[j+1] = k\n",
    "                # data[j], data[j+1] = data[j+1], data[j]\n",
    "    for i in range(n):\n",
    "        print(data[i], end = \" \")\n",
    "\n",
    "n = int(input())\n",
    "data = list(map(int, input().split()))\n",
    "\n",
    "bubble(n, data)"
   ]
  }
 ],
 "metadata": {
  "kernelspec": {
   "display_name": "Python 3",
   "language": "python",
   "name": "python3"
  },
  "language_info": {
   "codemirror_mode": {
    "name": "ipython",
    "version": 3
   },
   "file_extension": ".py",
   "mimetype": "text/x-python",
   "name": "python",
   "nbconvert_exporter": "python",
   "pygments_lexer": "ipython3",
   "version": "3.6.8"
  }
 },
 "nbformat": 4,
 "nbformat_minor": 5
}
