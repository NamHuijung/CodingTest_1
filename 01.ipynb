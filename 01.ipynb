{
 "cells": [
  {
   "cell_type": "markdown",
   "id": "d46c1a9d",
   "metadata": {},
   "source": [
    "문제1~문제10"
   ]
  },
  {
   "cell_type": "code",
   "execution_count": 13,
   "id": "455574ce",
   "metadata": {},
   "outputs": [
    {
     "name": "stdout",
     "output_type": "stream",
     "text": [
      "[100, 200, 300]\n",
      "[100, 200, 300]\n"
     ]
    }
   ],
   "source": [
    "# 문제 1 : 리스트의 삭제\n",
    "# 다음 리스트에서 400, 500를 삭제하는 code를 입력하세요.\n",
    "\n",
    "nums = [100, 200, 300, 400, 500]\n",
    "nums.remove(400)\n",
    "nums.remove(500)\n",
    "print(nums)\n",
    "\n",
    "# 다른 방법\n",
    "\n",
    "nums = [100, 200, 300, 400, 500]\n",
    "nums.pop()\n",
    "nums.pop()\n",
    "print(nums)"
   ]
  },
  {
   "cell_type": "code",
   "execution_count": 15,
   "id": "e21ecaae",
   "metadata": {},
   "outputs": [
    {
     "name": "stdout",
     "output_type": "stream",
     "text": [
      "[200, 100, 10000, 300]\n"
     ]
    }
   ],
   "source": [
    "# 문제 2 : 리스트의 내장함수\n",
    "# <pass>부분에 리스트 내장함수를 insert를 이용하여 코드를 입력하고 \n",
    "# 다음과 같이 출력 => [200, 100, 10000, 300]\n",
    "\n",
    "l = [200, 100, 300]\n",
    "# <pass>\n",
    "l.insert(2, 10000)\n",
    "print(l)"
   ]
  },
  {
   "cell_type": "code",
   "execution_count": 16,
   "id": "15b20ce2",
   "metadata": {},
   "outputs": [
    {
     "name": "stdout",
     "output_type": "stream",
     "text": [
      "<class 'list'>\n"
     ]
    }
   ],
   "source": [
    "# 문제 3 : 변수의 타입\n",
    "# 다음 출력 값으로 올바른 것은?\n",
    "\n",
    "l = [100, 200, 300]\n",
    "print(type(l)) # class 'list'"
   ]
  },
  {
   "cell_type": "code",
   "execution_count": 17,
   "id": "b9cf79d3",
   "metadata": {},
   "outputs": [
    {
     "name": "stdout",
     "output_type": "stream",
     "text": [
      "<class 'int'>\n",
      "<class 'float'>\n",
      "<class 'str'>\n",
      "<class 'list'>\n"
     ]
    }
   ],
   "source": [
    "# 문제 4 : 변수의 타입2\n",
    "# 다음 변수 a를 print(type(a))로 넣었을 때 출력될 값과의 연결\n",
    "\n",
    "a = 1\n",
    "print(type(a)) # class 'int'\n",
    "\n",
    "a = 2.22\n",
    "print(type(a)) # class 'float'\n",
    "\n",
    "a = 'p'\n",
    "print(type(a)) # class 'str'\n",
    "\n",
    "a = [1, 2, 3]\n",
    "print(type(a)) # class 'list'"
   ]
  },
  {
   "cell_type": "code",
   "execution_count": 18,
   "id": "28706e90",
   "metadata": {},
   "outputs": [
    {
     "name": "stdout",
     "output_type": "stream",
     "text": [
      "16\n"
     ]
    }
   ],
   "source": [
    "# 문제 5. for문 계산\n",
    "# 다음 코드의 출력 값\n",
    "\n",
    "a = 10\n",
    "b = 2\n",
    "for i in range(1, 5, 2) :\n",
    "    a += i\n",
    "# a = 14\n",
    "\n",
    "print(a+b) # 16"
   ]
  },
  {
   "cell_type": "code",
   "execution_count": 21,
   "id": "1db64b0e",
   "metadata": {},
   "outputs": [
    {
     "name": "stdout",
     "output_type": "stream",
     "text": [
      "False\n",
      "True\n",
      "False\n",
      "False\n",
      "False\n"
     ]
    }
   ],
   "source": [
    "# 문제 6 : False\n",
    "# 다음 문법 중 False로 취급안하는 것\n",
    "\n",
    "print(bool(None))\n",
    "print(bool(1)) # True\n",
    "print(bool(\"\"))\n",
    "print(bool(0))\n",
    "print(bool(bool(0)))"
   ]
  },
  {
   "cell_type": "code",
   "execution_count": 22,
   "id": "08eea392",
   "metadata": {},
   "outputs": [],
   "source": [
    "# 문제 7 : 변수명\n",
    "# 다음 중 변수명으로 사용 불가\n",
    "\n",
    "# 1) age\n",
    "# 2) a\n",
    "# 3) as -> 불가\n",
    "# 4) _age\n",
    "# 5) 1age -> 불가"
   ]
  },
  {
   "cell_type": "code",
   "execution_count": 23,
   "id": "0f33141d",
   "metadata": {},
   "outputs": [
    {
     "name": "stdout",
     "output_type": "stream",
     "text": [
      "84\n"
     ]
    }
   ],
   "source": [
    "# 문제 8 : 딕셔너리 키 이름 중복\n",
    "# 출력값\n",
    "\n",
    "d = {'height':180,'weight':78,'weight':84,'temparture':36,'eyesight':1}\n",
    "print(d['weight']) # 84"
   ]
  },
  {
   "cell_type": "code",
   "execution_count": 26,
   "id": "9e0479dc",
   "metadata": {},
   "outputs": [
    {
     "name": "stdout",
     "output_type": "stream",
     "text": [
      "2019/04/26 11:34:27\n"
     ]
    },
    {
     "data": {
      "text/plain": [
       "\"\\n print(*objects, sep=' ', end='\\n', file=sys.stdout, flush=False)\\nsep : value 사이에 삽입할 문자열,\\nend : 마지막 value 뒤에 붙으고 싶은 value\\n\""
      ]
     },
     "execution_count": 26,
     "metadata": {},
     "output_type": "execute_result"
    }
   ],
   "source": [
    "# 문제 9 : sep과 end를 활용한 출력 방법\n",
    "# 다음 소스 코드를 완성하여 날짜와 시간을 출력 => 2019/04/26 11:34:27\n",
    "\n",
    "year = '2019'\n",
    "month = '04'\n",
    "day = '26'\n",
    "hour = '11'\n",
    "minute = '34'\n",
    "second = '27'\n",
    "\n",
    "print(year, month, day, sep='/', end=' ')\n",
    "print(hour, minute, second, sep=':')\n",
    "\n",
    "'''\n",
    " print(*objects, sep=' ', end='\\n', file=sys.stdout, flush=False)\n",
    "sep : value 사이에 삽입할 문자열,\n",
    "end : 마지막 value 뒤에 붙으고 싶은 value\n",
    "'''"
   ]
  },
  {
   "cell_type": "code",
   "execution_count": 30,
   "id": "bd31451e",
   "metadata": {},
   "outputs": [
    {
     "name": "stdout",
     "output_type": "stream",
     "text": [
      "10\n",
      "         *\n",
      "        ***\n",
      "       *****\n",
      "      *******\n",
      "     *********\n",
      "    ***********\n",
      "   *************\n",
      "  ***************\n",
      " *****************\n",
      "*******************\n"
     ]
    }
   ],
   "source": [
    "# 문제 10 : 별 찍기\n",
    "\n",
    "num = int(input())\n",
    "for i in range(1, num+1) :\n",
    "    print(' '*(num-i) + '*'*(2*i-1))"
   ]
  },
  {
   "cell_type": "code",
   "execution_count": null,
   "id": "9a0ea1f0",
   "metadata": {},
   "outputs": [],
   "source": []
  }
 ],
 "metadata": {
  "kernelspec": {
   "display_name": "Python 3",
   "language": "python",
   "name": "python3"
  },
  "language_info": {
   "codemirror_mode": {
    "name": "ipython",
    "version": 3
   },
   "file_extension": ".py",
   "mimetype": "text/x-python",
   "name": "python",
   "nbconvert_exporter": "python",
   "pygments_lexer": "ipython3",
   "version": "3.6.8"
  }
 },
 "nbformat": 4,
 "nbformat_minor": 5
}
